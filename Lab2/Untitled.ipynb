{
 "cells": [
  {
   "cell_type": "markdown",
   "metadata": {},
   "source": [
    "# <p style=\"text-align: center;\">EE 379K: Data Science Lab</p>\n",
    "# <p style=\"text-align: center;\">Lab 2 - 9/18/17</p>\n",
    "## <p style=\"text-align: center;\">Rachel Chen and Kevin Yee</p>\n",
    "### <p style=\"text-align: center;\"> rjc2737 and kjy252</p>\n"
   ]
  },
  {
   "cell_type": "markdown",
   "metadata": {},
   "source": [
    "### Correlations\n",
    "\n",
    "(a) When given a data matrix, an easy way to tell if any two columns are correlated is to\n",
    "look at a scatter plot of each column against each other column. For a warm up, do this:\n",
    "Look at the data in DF1 in Lab2.zip. Which columns are (pairwise) correlated? Figure\n",
    "out how to do this with Pandas, and also how to do this with Seaborn.\n",
    "\n",
    "(b) Compute the covariance matrix of the data. Write the explicit expression for what this\n",
    "is, and then use any command you like (e.g., np.cov) to compute the 4 \u0002 4 matrix.\n",
    "Explain why the numbers that you get \f",
    "t with the plots you got.\n",
    "\n",
    "(c) The above problem in reverse. Generate a zero-mean multivariate Gaussian random\n",
    "variable in 3 dimensions, Z = (X1;X2;X3) so that (X1;X2) and (X1;X3) are uncorre-\n",
    "lated, but (X2;X3) are correlated. Speci\f",
    "cally: choose a covariance matrix that has the\n",
    "above correlations structure, and write this down. Then \f",
    "nd a way to generate samples\n",
    "from this Gaussian. Choose one of the non-zero covariance terms (Cij , if C denotes\n",
    "your covariance matrix) and plot it vs the estimated covariance term, as the number of\n",
    "samples you use scales. The goal is to get a visual representation of how the empirical\n",
    "covariance converges to the true (or family) covariance."
   ]
  },
  {
   "cell_type": "code",
   "execution_count": null,
   "metadata": {
    "collapsed": true
   },
   "outputs": [],
   "source": []
  }
 ],
 "metadata": {
  "kernelspec": {
   "display_name": "Python 2",
   "language": "python",
   "name": "python2"
  },
  "language_info": {
   "codemirror_mode": {
    "name": "ipython",
    "version": 2
   },
   "file_extension": ".py",
   "mimetype": "text/x-python",
   "name": "python",
   "nbconvert_exporter": "python",
   "pygments_lexer": "ipython2",
   "version": "2.7.13"
  }
 },
 "nbformat": 4,
 "nbformat_minor": 2
}
