{
 "cells": [
  {
   "cell_type": "markdown",
   "metadata": {},
   "source": [
    "# <p style=\"text-align: center;\">EE 379K: Data Science Lab</p>\n",
    "# <p style=\"text-align: center;\">Lab 2 - 9/18/17</p>\n",
    "## <p style=\"text-align: center;\">Rachel Chen and Kevin Yee</p>\n",
    "### <p style=\"text-align: center;\"> rjc2737 and kjy252</p>\n"
   ]
  },
  {
   "cell_type": "markdown",
   "metadata": {},
   "source": [
    "## 1. Correlations\n",
    "\n",
    "(a) When given a data matrix, an easy way to tell if any two columns are correlated is to\n",
    "look at a scatter plot of each column against each other column. For a warm up, do this:\n",
    "Look at the data in DF1 in Lab2.zip. Which columns are (pairwise) correlated? Figure\n",
    "out how to do this with Pandas, and also how to do this with Seaborn.\n",
    "\n"
   ]
  },
  {
   "cell_type": "code",
   "execution_count": 3,
   "metadata": {
    "collapsed": false
   },
   "outputs": [],
   "source": [
    "%matplotlib inline\n",
    "import numpy as np\n",
    "import matplotlib.pyplot as plt\n",
    "import pandas as pd\n",
    "from pandas.tools.plotting import scatter_matrix\n",
    "import seaborn as sns"
   ]
  },
  {
   "cell_type": "code",
   "execution_count": 30,
   "metadata": {
    "collapsed": false
   },
   "outputs": [
    {
     "data": {
      "text/html": [
       "<div>\n",
       "<style>\n",
       "    .dataframe thead tr:only-child th {\n",
       "        text-align: right;\n",
       "    }\n",
       "\n",
       "    .dataframe thead th {\n",
       "        text-align: left;\n",
       "    }\n",
       "\n",
       "    .dataframe tbody tr th {\n",
       "        vertical-align: top;\n",
       "    }\n",
       "</style>\n",
       "<table border=\"1\" class=\"dataframe\">\n",
       "  <thead>\n",
       "    <tr style=\"text-align: right;\">\n",
       "      <th></th>\n",
       "      <th>A</th>\n",
       "      <th>B</th>\n",
       "      <th>C</th>\n",
       "    </tr>\n",
       "  </thead>\n",
       "  <tbody>\n",
       "    <tr>\n",
       "      <th>0</th>\n",
       "      <td>0</td>\n",
       "      <td>1.038502</td>\n",
       "      <td>0.835053</td>\n",
       "    </tr>\n",
       "    <tr>\n",
       "      <th>1</th>\n",
       "      <td>1</td>\n",
       "      <td>0.320455</td>\n",
       "      <td>0.149079</td>\n",
       "    </tr>\n",
       "    <tr>\n",
       "      <th>2</th>\n",
       "      <td>2</td>\n",
       "      <td>0.055480</td>\n",
       "      <td>0.271672</td>\n",
       "    </tr>\n",
       "    <tr>\n",
       "      <th>3</th>\n",
       "      <td>3</td>\n",
       "      <td>-0.007260</td>\n",
       "      <td>-0.126550</td>\n",
       "    </tr>\n",
       "    <tr>\n",
       "      <th>4</th>\n",
       "      <td>4</td>\n",
       "      <td>-1.237390</td>\n",
       "      <td>-1.049932</td>\n",
       "    </tr>\n",
       "  </tbody>\n",
       "</table>\n",
       "</div>"
      ],
      "text/plain": [
       "   A         B         C\n",
       "0  0  1.038502  0.835053\n",
       "1  1  0.320455  0.149079\n",
       "2  2  0.055480  0.271672\n",
       "3  3 -0.007260 -0.126550\n",
       "4  4 -1.237390 -1.049932"
      ]
     },
     "execution_count": 30,
     "metadata": {},
     "output_type": "execute_result"
    }
   ],
   "source": [
    "colNames = pd.Series(['A','B','C'])\n",
    "df = pd.read_csv(\"Lab2_Data/DF2\")\n",
    "df.columns = colNames;\n",
    "df.head()"
   ]
  },
  {
   "cell_type": "markdown",
   "metadata": {},
   "source": [
    "scatter_matrix(df);\n",
    "\n",
    "sns.pairplot(df);\n",
    "sns.plt.show();"
   ]
  },
  {
   "cell_type": "markdown",
   "metadata": {},
   "source": [
    "(b) Compute the covariance matrix of the data. Write the explicit expression for what this\n",
    "is, and then use any command you like (e.g., np.cov) to compute the 4 \u0002 4 matrix.\n",
    "Explain why the numbers that you get \f",
    "t with the plots you got.\n"
   ]
  },
  {
   "cell_type": "code",
   "execution_count": 33,
   "metadata": {
    "collapsed": false
   },
   "outputs": [
    {
     "data": {
      "text/html": [
       "<div>\n",
       "<style>\n",
       "    .dataframe thead tr:only-child th {\n",
       "        text-align: right;\n",
       "    }\n",
       "\n",
       "    .dataframe thead th {\n",
       "        text-align: left;\n",
       "    }\n",
       "\n",
       "    .dataframe tbody tr th {\n",
       "        vertical-align: top;\n",
       "    }\n",
       "</style>\n",
       "<table border=\"1\" class=\"dataframe\">\n",
       "  <thead>\n",
       "    <tr style=\"text-align: right;\">\n",
       "      <th></th>\n",
       "      <th>A</th>\n",
       "      <th>B</th>\n",
       "      <th>C</th>\n",
       "    </tr>\n",
       "  </thead>\n",
       "  <tbody>\n",
       "    <tr>\n",
       "      <th>A</th>\n",
       "      <td>8.334167e+06</td>\n",
       "      <td>-13.270459</td>\n",
       "      <td>-14.014043</td>\n",
       "    </tr>\n",
       "    <tr>\n",
       "      <th>B</th>\n",
       "      <td>-1.327046e+01</td>\n",
       "      <td>1.004648</td>\n",
       "      <td>0.994242</td>\n",
       "    </tr>\n",
       "    <tr>\n",
       "      <th>C</th>\n",
       "      <td>-1.401404e+01</td>\n",
       "      <td>0.994242</td>\n",
       "      <td>1.004160</td>\n",
       "    </tr>\n",
       "  </tbody>\n",
       "</table>\n",
       "</div>"
      ],
      "text/plain": [
       "              A          B          C\n",
       "A  8.334167e+06 -13.270459 -14.014043\n",
       "B -1.327046e+01   1.004648   0.994242\n",
       "C -1.401404e+01   0.994242   1.004160"
      ]
     },
     "execution_count": 33,
     "metadata": {},
     "output_type": "execute_result"
    }
   ],
   "source": [
    "df.cov()"
   ]
  },
  {
   "cell_type": "markdown",
   "metadata": {},
   "source": [
    "(c) The above problem in reverse. Generate a zero-mean multivariate Gaussian random\n",
    "variable in 3 dimensions, Z = (X1;X2;X3) so that (X1;X2) and (X1;X3) are uncorre-\n",
    "lated, but (X2;X3) are correlated. Speci\f",
    "cally: choose a covariance matrix that has the\n",
    "above correlations structure, and write this down. Then \f",
    "nd a way to generate samples\n",
    "from this Gaussian. Choose one of the non-zero covariance terms (Cij , if C denotes\n",
    "your covariance matrix) and plot it vs the estimated covariance term, as the number of\n",
    "samples you use scales. The goal is to get a visual representation of how the empirical\n",
    "covariance converges to the true (or family) covariance."
   ]
  },
  {
   "cell_type": "code",
   "execution_count": null,
   "metadata": {
    "collapsed": true
   },
   "outputs": [],
   "source": []
  },
  {
   "cell_type": "markdown",
   "metadata": {
    "collapsed": true
   },
   "source": [
    "## 2. Outliers. \n",
    "Consider the two-dimensional data in DF2 in Lab2.zip. Look at a scatter plot\n",
    "of the data. It contains two points that look like potential outliers. Which one is “more”\n",
    "outlying? Propose a transformation of the data that makes it clear that the point at (−1, 1)\n",
    "is more outlying than the point at (5.5, 5), even though the latter point is“farther away”\n",
    "from the nearest points. Plot the data again after performing this transformation. Provide\n",
    "discussion as appropriate to justify your choice of transformation. Hint: if y comes from a\n",
    "standard Gaussian in two dimensions (i.e., with covariance equal to the two by two identity\n",
    "matrix), and\n",
    "$$Q = \\begin{bmatrix}\n",
    "    2       & \\frac{1}{2} \\\\\n",
    "    \\frac{1}{2}       & 2\n",
    "\\end{bmatrix}$$\n",
    "what is the covariance matrix of the random variable z = Qy? If you are given z, how would\n",
    "you create a random Gaussian vector with covariance equal to the identity, using z?"
   ]
  },
  {
   "cell_type": "markdown",
   "metadata": {},
   "source": [
    "## 3. Even More Standard Error\n",
    "(This is to be completed only after you’ve completed the\n",
    "last written exercise below). In one of the written exercises below, you derive an expression\n",
    "1\n",
    "for what is called the Standard Error: where β denotes the “truth,” βˆ denotes the value we\n",
    "compute using least squares linear regression, and Z and e are as in the exercise below, you\n",
    "find:\n",
    "βˆ − β = Ze.\n",
    "If we know the distribution of the noise (the distribution generating the noise vectors, ei),\n",
    "then we know the distribution for the error, (βˆ − β). This allows us to answer the question\n",
    "given in class: if we solve a regression and obtain value βˆ, how can we tell if it is statistically\n",
    "significant? The answer is: we compare the size of βˆ to the spread introduced by the noise\n",
    "(i.e., the standard error), and we ask: what is the likelihood that the true β = 0, and what\n",
    "we observed was purely due to the noise.\n",
    "If the noise is Gaussian (normal), i.e., ei ∼ N(0, σ2\n",
    "), and if the values of the xi are normalized,\n",
    "then we expect error of the size σ/√\n",
    "n, as this is roughly the standard deviation of the\n",
    "expression for the error that you derive above. This means: if you have twice the data points,\n",
    "you should expect the error to be reduced by about 1.4 (the formula says that the standard\n",
    "deviation of the error would decrease by a factor of 1/\n",
    "√\n",
    "2).\n",
    "Compute this empirically, as follows: We will generate data for a regression problem, solve\n",
    "it, and see what the error is: Generate data as I did in the example from class: xi ∼ N(0, 1),\n",
    "ei ∼ N(0, 1). Generate y by yi = β0 + xiβ + ei\n",
    ", where β0 = −3 and β = 0. Note that\n",
    "since β = 0, this means that y and x are unrelated! The question we are exploring here is as\n",
    "follows: when we solve a regression problem, we are not going to find βˆ = 0 – we will find\n",
    "that βˆ takes some other values, hopefully close to zero. How do we know if the value of βˆ we\n",
    "get is statistically meaningful?\n",
    "• By creating fresh data and each time computing βˆ and recording βˆ − β, compute the\n",
    "empirical standard deviation of the error for n = 150 (the number we used in class). In\n",
    "class, in the exercise where I tried to find a linear regression of y vs. noise, we found\n",
    "βˆ = −0.15. Given your empirical computation of the standard deviation of the error,\n",
    "how significant is the value −0.15?\n",
    "• Now repeat the above experiment for different values of n. Plot these values, and on the\n",
    "same plot, plot 1/\n",
    "√\n",
    "n. How is the fit?"
   ]
  },
  {
   "cell_type": "code",
   "execution_count": null,
   "metadata": {
    "collapsed": true
   },
   "outputs": [],
   "source": []
  }
 ],
 "metadata": {
  "kernelspec": {
   "display_name": "Python 2",
   "language": "python",
   "name": "python2"
  },
  "language_info": {
   "codemirror_mode": {
    "name": "ipython",
    "version": 2
   },
   "file_extension": ".py",
   "mimetype": "text/x-python",
   "name": "python",
   "nbconvert_exporter": "python",
   "pygments_lexer": "ipython2",
   "version": "2.7.13"
  }
 },
 "nbformat": 4,
 "nbformat_minor": 2
}
