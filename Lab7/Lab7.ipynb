{
 "cells": [
  {
   "cell_type": "markdown",
   "metadata": {},
   "source": [
    "# <p style=\"text-align: center;\">EE 379K: Data Science Lab</p>\n",
    "# <p style=\"text-align: center;\">Lab 7 - 11/06/17</p>\n",
    "## <p style=\"text-align: center;\">Rachel Chen and Kevin Yee</p>\n",
    "### <p style=\"text-align: center;\"> rjc2737 and kjy252</p>"
   ]
  },
  {
   "cell_type": "markdown",
   "metadata": {
    "collapsed": true
   },
   "source": [
    "##Problem 1. \n",
    "The dataset you played on the Kaggle competition was derived from this dataset\n",
    "https://www.kaggle.com/c/GiveMeSomeCredit/data. As you can see, you were predicting who\n",
    "will have a serious Deliquency on their loan. If someone is a high-risk individual (i.e. the model\n",
    "predicts y = 1 they would be denied a loan).\n",
    "\n",
    "1. The Kaggle data file Data Dictionary.xls explains the real features. The other features\n",
    "were artifically generated. Identify and name the real features in the in-class Kaggle training\n",
    "dataset.\n",
    "\n",
    "2. Model interpretability: What is the effect of MonthlyIncome to the prediction? Quantify as\n",
    "much as you can how 1000,2000 or 3000 extra per month affect the probablity of deliquency. Do\n",
    "this by fitting a simple model on the dataset and using your best model.\n",
    "\n",
    "3. What is the most important variable in predicting deliquency ? What is the most important\n",
    "pair of variables? Make a data science argument supported by data.\n",
    "\n",
    "4. The Age Discrimination in Employment Act (ADEA) forbids age discrimination against\n",
    "people who are age 40 or older. Look at the best models you used in your Kaggle competion. Were\n",
    "they discriminating against older people ? Make the best argument you can.\n",
    "\n",
    "5. Your manager asks if the number of dependents in the family (spouse, no of children) has an\n",
    "effect on loan deliquency. What does the data say ? Calculate a p-value to express how confident\n",
    "you are.\n"
   ]
  },
  {
   "cell_type": "code",
   "execution_count": 46,
   "metadata": {
    "collapsed": true
   },
   "outputs": [],
   "source": [
    "import numpy as np\n",
    "import pandas as pd\n",
    "import matplotlib\n",
    "import matplotlib.pyplot as plt\n",
    "import math\n",
    "import xgboost as xgb\n",
    "from sklearn.linear_model import LinearRegression, Ridge\n",
    "from sklearn.model_selection import cross_val_score\n",
    "from sklearn.model_selection import train_test_split\n",
    "%matplotlib inline\n",
    "\n",
    "import warnings\n",
    "warnings.filterwarnings('ignore')"
   ]
  },
  {
   "cell_type": "markdown",
   "metadata": {},
   "source": [
    "\n",
    "Data dictionary\n",
    "\n",
    "**SeriousDlqin2yrs** Person experienced 90 days past due delinquency or worse\n",
    "\n",
    "**RevolvingUtilizationOfUnsecuredLines:** Total balance on credit cards and personal lines of credit except real estate and no installment debt like car loans divided by the sum of credit limits\n",
    "age Age of borrower in years\n",
    "\n",
    "**NumberOfTime30-59DaysPastDueNotWorse:** Number of times borrower has been 30-59 days past due but no worse in the last 2 years.\n",
    "\n",
    "**DebtRatio:** Monthly debt payments, alimony,living costs divided by monthy gross income\n",
    "\n",
    "**MonthlyIncome:** Monthly income\n",
    "\n",
    "**NumberOfOpenCreditLinesAndLoans:** Number of Open loans (installment like car loan or mortgage) and Lines of credit (e.g. credit cards)\n",
    "\n",
    "**NumberOfTimes90DaysLate:** Number of times borrower has been 90 days or more past due.\n",
    "\n",
    "**NumberRealEstateLoansOrLines:** Number of mortgage and real estate loans including home equity lines of credit\n",
    "\n",
    "**NumberOfTime60-89DaysPastDueNotWorse:** Number of times borrower has been 60-89 days past due but no worse in the last 2 years.\n",
    "\n",
    "**NumberOfDependents:** Number of dependents in family excluding themselves (spouse, children etc.)"
   ]
  },
  {
   "cell_type": "markdown",
   "metadata": {},
   "source": [
    "## 1.1 Identifying Features in Noisy Data Set"
   ]
  },
  {
   "cell_type": "code",
   "execution_count": 63,
   "metadata": {
    "collapsed": false
   },
   "outputs": [
    {
     "name": "stdout",
     "output_type": "stream",
     "text": [
      "('Shape of Credit Score', (251503, 10))\n",
      "('Shape of Noisy Data Set', (99998, 27))\n"
     ]
    }
   ],
   "source": [
    "# import proper credit dataset\n",
    "credit_Train = pd.read_csv(\"data/cs-training.csv\")\n",
    "credit_Test = pd.read_csv(\"data/cs-test.csv\")\n",
    "\n",
    "# import noisy version of dataset\n",
    "noisy_Train = pd.read_csv(\"data/train_final.csv\")\n",
    "noisy_Test = pd.read_csv(\"data/test_final.csv\")\n",
    "\n",
    "# concatenate both train and test set \n",
    "all_credit = pd.concat((credit_Train.loc[:,'RevolvingUtilizationOfUnsecuredLines':'NumberOfDependents'],\n",
    "                       credit_Test.loc[:,'RevolvingUtilizationOfUnsecuredLines':'NumberOfDependents']))\n",
    "\n",
    "all_noise = pd.concat((noisy_Train.loc[:,'F1':'F27'],\n",
    "                       noisy_Test.loc[:,'F1':'F27']))\n",
    "\n",
    "# look at the resulting shapes\n",
    "print(\"Shape of Credit Score\",all_credit.shape)\n",
    "print(\"Shape of Noisy Data Set\",all_noise.shape)"
   ]
  },
  {
   "cell_type": "markdown",
   "metadata": {},
   "source": [
    "Which 10 columns in the noisy dataset matches up to the credit score?"
   ]
  },
  {
   "cell_type": "code",
   "execution_count": 64,
   "metadata": {
    "collapsed": false
   },
   "outputs": [],
   "source": [
    "# Programatically determine which columns are most similiary related by their difference in mean and std\n",
    "def find_similiarities(real_data,noisy_data):\n",
    "    for col in real_data.columns:\n",
    "        trueMean = real_data[col].mean()\n",
    "        trueSTD = real_data[col].std()\n",
    "        difference = []\n",
    "        for feat in noisy_data.columns:\n",
    "            difference.append(abs(trueMean - noisy_data[feat].mean()) + abs(trueSTD - noisy_data[feat].std()))\n",
    "        minDiff = min(difference)\n",
    "        idx = difference.index(minDiff)\n",
    "        print(col, \"is most closely related to\",noisy_data.columns[idx])\n",
    "        print(\"True Mean: %0.2f ,True Std: %0.2f Noisy Mean: %0.2f Noisy STD: %0.2f ,\\n\" \n",
    "              % (trueMean,trueSTD,noisy_data[noisy_data.columns[idx]].mean(),noisy_data[noisy_data.columns[idx]].std()))"
   ]
  },
  {
   "cell_type": "code",
   "execution_count": 65,
   "metadata": {
    "collapsed": false
   },
   "outputs": [
    {
     "name": "stdout",
     "output_type": "stream",
     "text": [
      "('RevolvingUtilizationOfUnsecuredLines', 'is most closely related to', 'F23')\n",
      "True Mean: 5.75 ,True Std: 229.63 Noisy Mean: 6.01 Noisy STD: 261.61 ,\n",
      "\n",
      "('age', 'is most closely related to', 'F26')\n",
      "True Mean: 52.34 ,True Std: 14.78 Noisy Mean: 52.25 Noisy STD: 14.76 ,\n",
      "\n",
      "('NumberOfTime30-59DaysPastDueNotWorse', 'is most closely related to', 'F25')\n",
      "True Mean: 0.43 ,True Std: 4.34 Noisy Mean: 0.42 Noisy STD: 4.22 ,\n",
      "\n",
      "('DebtRatio', 'is most closely related to', 'F27')\n",
      "True Mean: 349.56 ,True Std: 1884.79 Noisy Mean: 355.82 Noisy STD: 2116.27 ,\n",
      "\n",
      "('MonthlyIncome', 'is most closely related to', 'F19')\n",
      "True Mean: 6744.82 ,True Std: 25717.61 Noisy Mean: 6639.67 Noisy STD: 13872.51 ,\n",
      "\n",
      "('NumberOfOpenCreditLinesAndLoans', 'is most closely related to', 'F22')\n",
      "True Mean: 8.45 ,True Std: 5.15 Noisy Mean: 8.44 Noisy STD: 5.14 ,\n",
      "\n",
      "('NumberOfTimes90DaysLate', 'is most closely related to', 'F14')\n",
      "True Mean: 0.28 ,True Std: 4.31 Noisy Mean: 0.27 Noisy STD: 4.20 ,\n",
      "\n",
      "('NumberRealEstateLoansOrLines', 'is most closely related to', 'F10')\n",
      "True Mean: 1.02 ,True Std: 1.12 Noisy Mean: 1.02 Noisy STD: 1.13 ,\n",
      "\n",
      "('NumberOfTime60-89DaysPastDueNotWorse', 'is most closely related to', 'F14')\n",
      "True Mean: 0.25 ,True Std: 4.30 Noisy Mean: 0.27 Noisy STD: 4.20 ,\n",
      "\n",
      "('NumberOfDependents', 'is most closely related to', 'F5')\n",
      "True Mean: 0.76 ,True Std: 1.12 Noisy Mean: 0.76 Noisy STD: 1.12 ,\n",
      "\n"
     ]
    }
   ],
   "source": [
    "find_similiarities(all_credit,all_noise)"
   ]
  },
  {
   "cell_type": "markdown",
   "metadata": {},
   "source": [
    "F23: RevolvingUtilizationOfUnsecuredLines\n",
    "\n",
    "F26: Age\n",
    "\n",
    "F25: NumberOfTime30-59DaysPastDueNotWorse\n",
    "\n",
    "F27: DebtRatio\n",
    "\n",
    "F19: MonthlyIncome\n",
    "\n",
    "F22: NumberofOpenCreditLinesAndLoans\n",
    "\n",
    "F14: NumberofTimes90DaysLate\n",
    "\n",
    "F10: NumberRealEstateLoansOrLines\n",
    "\n",
    "F14: NumberOfTime60-89DaysPastDueNotWorse\n",
    "\n",
    "F5: NumberOfDependents"
   ]
  },
  {
   "cell_type": "markdown",
   "metadata": {},
   "source": [
    "## 1.2 Effect of Adding to Monthly Income\n",
    "Model interpretability: What is the effect of MonthlyIncome to the prediction? Quantify as much as you can how 1000,2000 or 3000 extra per month affect the probablity of deliquency. Do this by fitting a simple model on the dataset and using your best model."
   ]
  },
  {
   "cell_type": "code",
   "execution_count": 4,
   "metadata": {
    "collapsed": false
   },
   "outputs": [],
   "source": [
    "from sklearn.model_selection import StratifiedKFold\n",
    "\n",
    "# import proper credit dataset\n",
    "credit_Train = pd.read_csv(\"data/cs-training.csv\")\n",
    "credit_Test = pd.read_csv(\"data/cs-test.csv\")\n",
    "\n",
    "# separate into X_train and y_train\n",
    "X_train = credit_Train.drop(['SeriousDlqin2yrs'],axis =1)\n",
    "X_test =  credit_Test.drop(['SeriousDlqin2yrs'],axis =1)\n",
    "y_train = credit_Train.SeriousDlqin2yrs\n"
   ]
  },
  {
   "cell_type": "code",
   "execution_count": 102,
   "metadata": {
    "collapsed": false
   },
   "outputs": [
    {
     "name": "stdout",
     "output_type": "stream",
     "text": [
      "Results: 86.382% (0.223%)\n"
     ]
    }
   ],
   "source": [
    "# cross validate to determine how good the model is \n",
    "estimator = xgb.XGBClassifier()\n",
    "kfold = StratifiedKFold(n_splits=5, shuffle=True, random_state=42)\n",
    "results = cross_val_score(estimator, X_train, y_train, cv=kfold, scoring = 'roc_auc')\n",
    "print(\"Results: %.3f%% (%.3f%%)\" % (results.mean()*100, results.std()*100))"
   ]
  },
  {
   "cell_type": "markdown",
   "metadata": {},
   "source": [
    "A simple XGBoost has an AUC score of 86.38% which is decent enough. We will use this as our base model to determine the effect of monthly income"
   ]
  },
  {
   "cell_type": "code",
   "execution_count": 114,
   "metadata": {
    "collapsed": false
   },
   "outputs": [
    {
     "name": "stdout",
     "output_type": "stream",
     "text": [
      "Average Probability of Delinquency with $0 monthly income boost: 6.211\n",
      "Average Probability of Delinquency with $1000 monthly income boost: 6.193\n",
      "Average Probability of Delinquency with $2000 monthly income boost: 6.180\n",
      "Average Probability of Delinquency with $3000 monthly income boost: 6.173\n"
     ]
    }
   ],
   "source": [
    "# Fit Model\n",
    "clf = xgb.XGBClassifier()\n",
    "clf.fit(X_train,y_train)\n",
    "\n",
    "\n",
    "# Base Prediction\n",
    "preds_base = clf.predict_proba(X_test)[:,1]\n",
    "\n",
    "# Add $1000\n",
    "X_test.MonthlyIncome = X_test.MonthlyIncome + 1000\n",
    "preds_1000 = clf.predict_proba(X_test)[:,1]\n",
    "\n",
    "# Add $2000\n",
    "X_test.MonthlyIncome = X_test.MonthlyIncome + 1000\n",
    "preds_2000 = clf.predict_proba(X_test)[:,1]\n",
    "\n",
    "# Add $3000\n",
    "X_test.MonthlyIncome = X_test.MonthlyIncome + 1000\n",
    "preds_3000 = clf.predict_proba(X_test)[:,1]\n",
    "\n",
    "print(\"Average Probability of Delinquency with $0 monthly income boost: %0.3f\" %(preds_base.mean()*100))\n",
    "print(\"Average Probability of Delinquency with $1000 monthly income boost: %0.3f\" %(preds_1000.mean()*100))\n",
    "print(\"Average Probability of Delinquency with $2000 monthly income boost: %0.3f\" %(preds_2000.mean()*100))\n",
    "print(\"Average Probability of Delinquency with $3000 monthly income boost: %0.3f\" %(preds_3000.mean()*100))"
   ]
  },
  {
   "cell_type": "markdown",
   "metadata": {},
   "source": [
    "## 1.3 Most Important Attribute to Delinquency"
   ]
  },
  {
   "cell_type": "code",
   "execution_count": 14,
   "metadata": {
    "collapsed": false
   },
   "outputs": [
    {
     "name": "stdout",
     "output_type": "stream",
     "text": [
      "((120000, 10), (30000, 10), (101503, 11))\n"
     ]
    },
    {
     "data": {
      "text/plain": [
       "<matplotlib.text.Text at 0xccd2630>"
      ]
     },
     "execution_count": 14,
     "metadata": {},
     "output_type": "execute_result"
    },
    {
     "data": {
      "image/png": "[encoded data removed]",
      "text/plain": [
       "<matplotlib.figure.Figure at 0xcdf9780>"
      ]
     },
     "metadata": {},
     "output_type": "display_data"
    }
   ],
   "source": [
    "import pandas as pd\n",
    "import numpy as np\n",
    "import operator\n",
    "from sklearn.cross_validation import train_test_split\n",
    "from sklearn.metrics import roc_auc_score\n",
    "from sklearn.ensemble import ExtraTreesClassifier\n",
    "from sklearn.feature_selection import SelectFromModel\n",
    "\n",
    "import xgboost as xgb\n",
    "import matplotlib.pyplot as plt\n",
    "import os\n",
    "train = pd.read_csv(\"data/cs-training.csv\")\n",
    "test = pd.read_csv(\"data/cs-test.csv\")\n",
    "\n",
    "\n",
    "def create_feature_map(features):\n",
    "    outfile = open('xgb.fmap', 'w')\n",
    "    i = 0\n",
    "    for feat in features:\n",
    "        outfile.write('{0}\\t{1}\\tq\\n'.format(i, feat))\n",
    "        i = i + 1\n",
    "\n",
    "    outfile.close()\n",
    "\n",
    "# clean and split data\n",
    "\n",
    "# remove constant columns (std = 0)\n",
    "remove = []\n",
    "for col in train.columns:\n",
    "    if train[col].std() == 0:\n",
    "        remove.append(col)\n",
    "\n",
    "train.drop(remove, axis=1, inplace=True)\n",
    "test.drop(remove, axis=1, inplace=True)\n",
    "\n",
    "# remove duplicated columns\n",
    "remove = []\n",
    "cols = train.columns\n",
    "for i in range(len(cols)-1):\n",
    "    v = train[cols[i]].values\n",
    "    for j in range(i+1,len(cols)):\n",
    "        if np.array_equal(v,train[cols[j]].values):\n",
    "            remove.append(cols[j])\n",
    "\n",
    "train.drop(remove, axis=1, inplace=True)\n",
    "test.drop(remove, axis=1, inplace=True)\n",
    "\n",
    "# split data into train and test\n",
    "test_id = test['Unnamed: 0']\n",
    "test = test.drop([\"Unnamed: 0\"],axis=1)\n",
    "\n",
    "X = train.drop(['SeriousDlqin2yrs','Unnamed: 0'],axis=1)\n",
    "y = train.SeriousDlqin2yrs.values\n",
    "\n",
    "X_train, X_test, y_train, y_test = train_test_split(X, y, test_size=0.20, random_state=1729)\n",
    "print(X_train.shape, X_test.shape, test.shape)\n",
    "create_feature_map(X_train.columns)\n",
    "## # Feature selection\n",
    "\n",
    "xgb_params = {\"objective\": \"binary:logistic\", \n",
    "\"eta\": 0.01, \"max_depth\": 5, \"seed\": 1301, \"silent\": 1,\n",
    "'subsample': 0.4,\n",
    "'colsample_bytree': 0.4,\n",
    "'reg_lambda': .96,\n",
    "'reg_alpha': .2}\n",
    "\n",
    "num_rounds = 600\n",
    "dtrain = xgb.DMatrix(X_train, label=y_train)\n",
    "gbdt = xgb.train(xgb_params, dtrain, num_rounds)\n",
    "fscore = gbdt.get_fscore('xgb.fmap')\n",
    "fscore = sorted(fscore.items(), key=operator.itemgetter(1,0), reverse=True)\n",
    "df = pd.DataFrame(fscore, columns=['feature', 'fscore'])\n",
    "df.plot(kind='barh', x='feature', y='fscore', legend=False, figsize=(6, 20))\n",
    "plt.title('XGBoost Feature Importance')\n",
    "plt.xlabel('relative importance')    # Divide the importances by the sum of all importances"
   ]
  },
  {
   "cell_type": "markdown",
   "metadata": {},
   "source": [
    "The most important variable in determining if a person has experienced deliqency is their DebtRatio. A high debt ratio probably indicates that a person has high debt and is more susceptible to be a serious delinquent.\n",
    "\n",
    "The greatest pair or variables that determines if a person is a delinquent is ???"
   ]
  },
  {
   "cell_type": "markdown",
   "metadata": {},
   "source": [
    "## Discrimination of people who are age 40 or older\n",
    "The Age Discrimination in Employment Act (ADEA) forbids age discrimination against people who are age 40 or older. Look at the best models you used in your Kaggle competion. Were they discriminating against older people ? Make the best argument you can."
   ]
  },
  {
   "cell_type": "code",
   "execution_count": 24,
   "metadata": {
    "collapsed": true
   },
   "outputs": [],
   "source": [
    "# import proper credit dataset\n",
    "credit_Train = pd.read_csv(\"data/cs-training.csv\")\n",
    "credit_Test = pd.read_csv(\"data/cs-test.csv\")\n",
    "\n",
    "# separate into X_train and y_train\n",
    "X_train = credit_Train.drop(['SeriousDlqin2yrs','Unnamed: 0'],axis =1)\n",
    "X_test =  credit_Test.drop(['SeriousDlqin2yrs','Unnamed: 0'],axis =1)\n",
    "y_train = credit_Train.SeriousDlqin2yrs"
   ]
  },
  {
   "cell_type": "code",
   "execution_count": 25,
   "metadata": {
    "collapsed": true
   },
   "outputs": [],
   "source": [
    "from sklearn.calibration import CalibratedClassifierCV\n",
    "clf = xgb.XGBClassifier(max_depth=5, n_estimators=1150, \n",
    "                        learning_rate=0.01, min_child_weight=7, gamma=.5,  \n",
    "                        subsample=0.4, reg_alpha=.2, colsample_bytree=.4,reg_lambda=.96)\n",
    "calibrated_clf = CalibratedClassifierCV(clf, method='sigmoid', cv=5)"
   ]
  },
  {
   "cell_type": "code",
   "execution_count": 26,
   "metadata": {
    "collapsed": false
   },
   "outputs": [
    {
     "data": {
      "text/plain": [
       "CalibratedClassifierCV(base_estimator=XGBClassifier(base_score=0.5, colsample_bylevel=1, colsample_bytree=0.4,\n",
       "       gamma=0.5, learning_rate=0.01, max_delta_step=0, max_depth=5,\n",
       "       min_child_weight=7, missing=None, n_estimators=1150, nthread=-1,\n",
       "       objective='binary:logistic', reg_alpha=0.2, reg_lambda=0.96,\n",
       "       scale_pos_weight=1, seed=0, silent=True, subsample=0.4),\n",
       "            cv=5, method='sigmoid')"
      ]
     },
     "execution_count": 26,
     "metadata": {},
     "output_type": "execute_result"
    }
   ],
   "source": [
    "calibrated_clf.fit(X_train,y_train)"
   ]
  },
  {
   "cell_type": "code",
   "execution_count": 28,
   "metadata": {
    "collapsed": false
   },
   "outputs": [],
   "source": [
    "over40 = X_test[X_test['age'] >= 40]\n",
    "under40 = X_test[X_test['age'] <= 40]\n",
    "\n",
    "pred_over40 = calibrated_clf.predict_proba(over40)[:,1]\n",
    "pred_under40 = calibrated_clf.predict_proba(under40)[:,1]"
   ]
  },
  {
   "cell_type": "code",
   "execution_count": 29,
   "metadata": {
    "collapsed": false
   },
   "outputs": [
    {
     "name": "stdout",
     "output_type": "stream",
     "text": [
      "Probability that a person over 40 is a delinquent 5.946\n",
      "Probability that a person under 40 is a delinquent 9.354\n"
     ]
    }
   ],
   "source": [
    "print (\"Probability that a person over 40 is a delinquent %0.3f\" %(pred_over40.mean()*100))\n",
    "print (\"Probability that a person under 40 is a delinquent %0.3f\" %(pred_under40.mean()*100))"
   ]
  },
  {
   "cell_type": "markdown",
   "metadata": {},
   "source": [
    "\n",
    "The model does not discriminate anyone over 40. If anything, any one over 40 has a lower chance of being classified as a delinquent. The average 40 year old in the test set has a 5.9% change of being categorized as a delinquent while a person under 40 has a 9.3% chance of being a delinquent"
   ]
  },
  {
   "cell_type": "markdown",
   "metadata": {},
   "source": [
    "## 1.5 P-Value of Number of Dependents\n",
    "Your manager asks if the number of dependents in the family (spouse, no of children) has an effect on loan deliquency. \n",
    "What does the data say ? Calculate a p-value to express how confident you are."
   ]
  },
  {
   "cell_type": "code",
   "execution_count": 38,
   "metadata": {
    "collapsed": false
   },
   "outputs": [
    {
     "data": {
      "text/plain": [
       "<matplotlib.axes._subplots.AxesSubplot at 0x10c50a20>"
      ]
     },
     "execution_count": 38,
     "metadata": {},
     "output_type": "execute_result"
    },
    {
     "data": {
      "image/png": "[encoded data removed]",
      "text/plain": [
       "<matplotlib.figure.Figure at 0xc8b2048>"
      ]
     },
     "metadata": {},
     "output_type": "display_data"
    }
   ],
   "source": [
    "credit_Train['NumberOfDependents'].hist(bins = 100)"
   ]
  },
  {
   "cell_type": "code",
   "execution_count": 41,
   "metadata": {
    "collapsed": false
   },
   "outputs": [],
   "source": [
    "noDependents = X_test[X_test['NumberOfDependents'] == 0]\n",
    "hasDependents = X_test[X_test['NumberOfDependents'] > 0]\n",
    "\n",
    "pred_noDepend = calibrated_clf.predict_proba(noDependents)[:,1]\n",
    "pred_hasDepend = calibrated_clf.predict_proba(hasDependents)[:,1]"
   ]
  },
  {
   "cell_type": "code",
   "execution_count": 44,
   "metadata": {
    "collapsed": false
   },
   "outputs": [
    {
     "name": "stdout",
     "output_type": "stream",
     "text": [
      "Probability that a person without dependents is classified as delinquent 6.073 percent\n",
      "Probability that a person with dependents is classified as delinquent 7.631 percent\n"
     ]
    }
   ],
   "source": [
    "print (\"Probability that a person without dependents is classified as delinquent %0.3f percent\" %(pred_noDepend.mean()*100))\n",
    "print (\"Probability that a person with dependents is classified as delinquent %0.3f percent\" %(pred_hasDepend.mean()*100))"
   ]
  },
  {
   "cell_type": "code",
   "execution_count": 45,
   "metadata": {
    "collapsed": false
   },
   "outputs": [
    {
     "name": "stdout",
     "output_type": "stream",
     "text": [
      "Optimization terminated successfully.\n",
      "         Current function value: 0.232889\n",
      "         Iterations 8\n",
      "                           Logit Regression Results                           \n",
      "==============================================================================\n",
      "Dep. Variable:                      Y   No. Observations:               120269\n",
      "Model:                          Logit   Df Residuals:                   120258\n",
      "Method:                           MLE   Df Model:                           10\n",
      "Date:                Fri, 03 Nov 2017   Pseudo R-squ.:                 0.07696\n",
      "Time:                        17:00:22   Log-Likelihood:                -28009.\n",
      "converged:                       True   LL-Null:                       -30345.\n",
      "                                        LLR p-value:                     0.000\n",
      "==============================================================================\n",
      "                 coef    std err          z      P>|z|      [0.025      0.975]\n",
      "------------------------------------------------------------------------------\n",
      "Intercept     -1.4724      0.046    -31.801      0.000      -1.563      -1.382\n",
      "X[0]       -5.704e-05    7.7e-05     -0.741      0.459      -0.000    9.39e-05\n",
      "X[1]          -0.0252      0.001    -27.093      0.000      -0.027      -0.023\n",
      "X[2]           0.5007      0.012     41.977      0.000       0.477       0.524\n",
      "X[3]          -0.0002   4.89e-05     -3.098      0.002      -0.000   -5.56e-05\n",
      "X[4]       -4.214e-05   3.29e-06    -12.808      0.000   -4.86e-05   -3.57e-05\n",
      "X[5]          -0.0051      0.003     -1.865      0.062      -0.010       0.000\n",
      "X[6]           0.4426      0.017     26.365      0.000       0.410       0.475\n",
      "X[7]           0.0843      0.011      7.587      0.000       0.063       0.106\n",
      "X[8]          -0.9067      0.019    -46.699      0.000      -0.945      -0.869\n",
      "X[9]           0.1035      0.010     10.704      0.000       0.085       0.122\n",
      "==============================================================================\n",
      "Index([u'RevolvingUtilizationOfUnsecuredLines', u'age',\n",
      "       u'NumberOfTime30-59DaysPastDueNotWorse', u'DebtRatio', u'MonthlyIncome',\n",
      "       u'NumberOfOpenCreditLinesAndLoans', u'NumberOfTimes90DaysLate',\n",
      "       u'NumberRealEstateLoansOrLines',\n",
      "       u'NumberOfTime60-89DaysPastDueNotWorse', u'NumberOfDependents'],\n",
      "      dtype='object')\n"
     ]
    }
   ],
   "source": [
    "import statsmodels.api as sm\n",
    "\n",
    "# import proper credit dataset\n",
    "credit_Train = pd.read_csv(\"data/cs-training.csv\")\n",
    "credit_Test = pd.read_csv(\"data/cs-test.csv\")\n",
    "\n",
    "# separate into X_train and y_train\n",
    "X_train = credit_Train.drop(['SeriousDlqin2yrs','Unnamed: 0'],axis =1)\n",
    "X_test =  credit_Test.drop(['SeriousDlqin2yrs','Unnamed: 0'],axis =1)\n",
    "y_train = credit_Train.SeriousDlqin2yrs\n",
    "\n",
    "X = X_train\n",
    "Y = y_train\n",
    "\n",
    "model = 'Y ~ X'\n",
    "logModel = sm.formula.logit(model, data=credit_Train).fit()\n",
    "print logModel.summary()\n",
    "\n",
    "print X_train.columns"
   ]
  },
  {
   "cell_type": "markdown",
   "metadata": {},
   "source": [
    "The number of dependents do matter. The p-value of Number of Dependents is less than 0.05. \n",
    "Furthermore, people with 0 dependents are overall less likely to be classified as delinquents (6.07%) than people with dependents (7.6%)"
   ]
  },
  {
   "cell_type": "markdown",
   "metadata": {},
   "source": [
    "## Problem 2. \n",
    "a) Create two random variables that are uncorrelated but dependent.\n",
    "\n",
    "b) Create two continuous random variables X, Y so that X and Y are strongly dependent but the\n",
    "best linear regression fit y = β1x + β0 has the optimal β0 = 0. Show a scatter plot of x, y pairs."
   ]
  },
  {
   "cell_type": "markdown",
   "metadata": {},
   "source": [
    "2.a \n",
    "\n",
    "Let $X  \\widetilde{ }  U(-1,1)$.\n",
    "\n",
    "Let $Y = X^2$ \n",
    "\n",
    "These variables are uncorrelated but dependent"
   ]
  },
  {
   "cell_type": "markdown",
   "metadata": {},
   "source": [
    "2.b\n",
    "\n",
    "Let $X  \\widetilde{ }  U(-1,1)$.\n",
    "\n",
    "Let $Y = \\sqrt{1-X^2}$\n",
    "\n",
    "Y is highly dependent on X, but the best fit line is slope is 0 as the number of samples approaches $\\infty$"
   ]
  },
  {
   "cell_type": "code",
   "execution_count": 80,
   "metadata": {
    "collapsed": false
   },
   "outputs": [
    {
     "data": {
      "text/plain": [
       "array([[ -3.40172205e-05]])"
      ]
     },
     "execution_count": 80,
     "metadata": {},
     "output_type": "execute_result"
    }
   ],
   "source": [
    "from sklearn.linear_model import LinearRegression\n",
    "\n",
    "lin = LinearRegression()\n",
    "\n",
    "X = np.random.uniform(-1,1,100000000)\n",
    "Y = np.sqrt(1-X**2)\n",
    "\n",
    "\n",
    "lin.fit(X.reshape(-1,1),Y.reshape(-1,1))\n",
    "lin.coef_"
   ]
  },
  {
   "cell_type": "code",
   "execution_count": 81,
   "metadata": {
    "collapsed": false
   },
   "outputs": [
    {
     "data": {
      "text/plain": [
       "<matplotlib.collections.PathCollection at 0x2dcdaac8>"
      ]
     },
     "execution_count": 81,
     "metadata": {},
     "output_type": "execute_result"
    },
    {
     "data": {
      "image/png": "[encoded data removed]",
      "text/plain": [
       "<matplotlib.figure.Figure at 0x2d897b70>"
      ]
     },
     "metadata": {},
     "output_type": "display_data"
    }
   ],
   "source": [
    "plt.scatter(X,Y)"
   ]
  },
  {
   "cell_type": "markdown",
   "metadata": {},
   "source": []
  }
 ],
 "metadata": {
  "kernelspec": {
   "display_name": "Python 2",
   "language": "python",
   "name": "python2"
  },
  "language_info": {
   "codemirror_mode": {
    "name": "ipython",
    "version": 2
   },
   "file_extension": ".py",
   "mimetype": "text/x-python",
   "name": "python",
   "nbconvert_exporter": "python",
   "pygments_lexer": "ipython2",
   "version": "2.7.13"
  }
 },
 "nbformat": 4,
 "nbformat_minor": 0
}
