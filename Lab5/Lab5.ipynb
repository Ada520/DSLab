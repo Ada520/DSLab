{
 "cells": [
  {
   "cell_type": "markdown",
   "metadata": {},
   "source": [
    "# <p style=\"text-align: center;\">EE 379K: Data Science Lab</p>\n",
    "# <p style=\"text-align: center;\">Lab 4 - 10/9/17</p>\n",
    "## <p style=\"text-align: center;\">Rachel Chen and Kmevin Yee</p>\n",
    "### <p style=\"text-align: center;\"> rjc2737 and kjy252</p>"
   ]
  },
  {
   "cell_type": "markdown",
   "metadata": {},
   "source": [
    "Book: http://www-bcf.usc.edu/~gareth/ISL/ISLR%20First%20Printing.pdf\n",
    "\n",
    "Website: http://www-bcf.usc.edu/~gareth/ISL/"
   ]
  },
  {
   "cell_type": "markdown",
   "metadata": {},
   "source": [
    "## Problem 1\n",
    "\n",
    "![](http://i.markdownnotes.com/image_6CFQDap.jpg)"
   ]
  },
  {
   "cell_type": "markdown",
   "metadata": {},
   "source": [
    "##Problem 2. \n",
    "Problem 10 from Chapter 4 (Classification for the ‘weekly’ dataset) Read the chapter\n",
    "to figure out how to use KNN and QDA, as we did not discuss these in class.\n",
    "\n",
    "![](http://i.markdownnotes.com/image_tvUnpbf.jpg)"
   ]
  },
  {
   "cell_type": "markdown",
   "metadata": {},
   "source": [
    "## Problem 3.\n",
    "Problem 5 from Chapter 5 Estimating the test error of logistic regression using a\n",
    "validation set.\n",
    "\n",
    "![](http://i.markdownnotes.com/image_tE482Hl.png)\n",
    "![](http://i.markdownnotes.com/image_vrk7zl2.png)"
   ]
  },
  {
   "cell_type": "markdown",
   "metadata": {},
   "source": [
    "## Problem 4: \n",
    "Problem 8 from Chapter 5.(Cross Validation). Use Google or any other means to find\n",
    "the Python counterpart to R’s rnorm.)\n",
    "\n",
    "![](http://i.markdownnotes.com/image_OhVmZdh.png)\n",
    "![](http://i.markdownnotes.com/image_4g7pr54.png)"
   ]
  },
  {
   "cell_type": "code",
   "execution_count": null,
   "metadata": {
    "collapsed": true
   },
   "outputs": [],
   "source": []
  },
  {
   "cell_type": "code",
   "execution_count": null,
   "metadata": {
    "collapsed": true
   },
   "outputs": [],
   "source": []
  },
  {
   "cell_type": "code",
   "execution_count": null,
   "metadata": {
    "collapsed": true
   },
   "outputs": [],
   "source": []
  }
 ],
 "metadata": {
  "kernelspec": {
   "display_name": "Python 2",
   "language": "python",
   "name": "python2"
  },
  "language_info": {
   "codemirror_mode": {
    "name": "ipython",
    "version": 2
   },
   "file_extension": ".py",
   "mimetype": "text/x-python",
   "name": "python",
   "nbconvert_exporter": "python",
   "pygments_lexer": "ipython2",
   "version": "2.7.13"
  }
 },
 "nbformat": 4,
 "nbformat_minor": 0
}
