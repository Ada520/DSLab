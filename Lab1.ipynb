{
 "cells": [
  {
   "cell_type": "markdown",
   "metadata": {},
   "source": [
    "#Lab 1 - EE379K Data Science Lab 9/11/17\n",
    "###Rachel Chen and Kevin Yee\n",
    "###Programming Questions\n",
    "1. Create 1000 samples from a Gaussian distribution with mean -10 and standard deviation 5.\n",
    "Create another 1000 samples from another independent Gaussian with mean 10 and standard\n",
    "deviation 5.\n",
    "(a) Take the sum of 2 these Gaussians by adding the two sets of 1000 points, point by point,\n",
    "and plot the histogram of the resulting 1000 points. What do you observe?\n",
    "(b) Estimate the mean and the variance of the sum.\n",
    "2. Central Limit Theorem. Let Xi be an iid Bernoulli random variable with value {-1,1}.\n",
    "Look at the random variable Zn =\n",
    "1\n",
    "n\n",
    "PXi\n",
    ". By taking 1000 draws from Zn, plot its histogram.\n",
    "Check that for small n (say, 5-10) Zn does not look that much like a Gaussian, but when n\n",
    "is bigger (already by the time n = 30 or 50) it looks much more like a Gaussian. Check also\n",
    "for much bigger n: n = 250, to see that at this point, one can really see the bell curve.\n",
    "3. Estimate the mean and standard deviation from 1 dimensional data: generate 25,000 samples\n",
    "from a Gaussian distribution with mean 0 and standard deviation 5. Then estimate the mean\n",
    "and standard deviation of this gaussian using elementary numpy commands, i.e., addition,\n",
    "multiplication, division (do not use a command that takes data and returns the mean or\n",
    "standard deviation).\n",
    "4. Estimate the mean and covariance matrix for multi-dimensional data: generate 10,000 samples\n",
    "of 2 dimensional data from the Gaussian distribution\n",
    "\n",
    "Then, estimate the mean and covariance matrix for this multi-dimensional data using elementary\n",
    "numpy commands, i.e., addition, multiplication, division (do not use a command that\n",
    "takes data and returns the mean or standard deviation).\n",
    "5. Download from Canvas/Files the dataset PatientData.csv.\n"
   ]
  },
  {
   "cell_type": "code",
   "execution_count": 14,
   "metadata": {
    "collapsed": true
   },
   "outputs": [],
   "source": [
    "%matplotlib inline\n",
    "import numpy as np\n",
    "import matplotlib.pyplot as plt"
   ]
  },
  {
   "cell_type": "code",
   "execution_count": 50,
   "metadata": {
    "collapsed": false
   },
   "outputs": [],
   "source": [
    "#Problem 1\n",
    "X = np.random.normal(-10, 5, 1000)\n",
    "Y = np.random.normal(10, 5, 1000)\n",
    "Z = np.add(X,Y)\n",
    "#https://stackoverflow.com/questions/38747612/whats-the-difference-between-numpy-adda-b-and-ab"
   ]
  },
  {
   "cell_type": "code",
   "execution_count": 54,
   "metadata": {
    "collapsed": false
   },
   "outputs": [
    {
     "data": {
      "text/plain": [
       "<matplotlib.legend.Legend at 0x10881588>"
      ]
     },
     "execution_count": 54,
     "metadata": {},
     "output_type": "execute_result"
    },
    {
     "data": {
      "image/png": "[encoded data removed]",
      "text/plain": [
       "<matplotlib.figure.Figure at 0xdeb32e8>"
      ]
     },
     "metadata": {},
     "output_type": "display_data"
    }
   ],
   "source": [
    "plt.title(\"Addition of two Gaussian\")\n",
    "\n",
    "plt.hist(X, label ='X Distribution')\n",
    "plt.hist(Y, label = 'Y Distibution')\n",
    "plt.hist(Z, label = 'Z Distribution')\n",
    "plt.legend(loc = 'upper left')\n"
   ]
  },
  {
   "cell_type": "code",
   "execution_count": 55,
   "metadata": {
    "collapsed": false
   },
   "outputs": [
    {
     "name": "stdout",
     "output_type": "stream",
     "text": [
      "The mean is 0.23\n",
      "The variance is 48.26\n"
     ]
    }
   ],
   "source": [
    "print \"The mean is\",\n",
    "print(\"%.2f\" % np.mean(Z))\n",
    "print \"The variance is\",\n",
    "print(\"%.2f\" % np.var(Z))"
   ]
  },
  {
   "cell_type": "markdown",
   "metadata": {},
   "source": [
    "####Problem 1 Observations:\n",
    "The sum of 2 independent Gaussians results in a Gaussian with the sum of the two means and sum of two variances.\n",
    "i.e. given\n",
    "$$X: N(\\mu_x,\\theta^2_x)$$\n",
    "$$Y: N(\\mu_y, \\theta^2_y)$$\n",
    "$$Z = X + Y$$\n",
    "\n",
    "$$Z: N(\\mu_x + \\mu_y, \\theta^2_x + \\theta^2_y)$$"
   ]
  },
  {
   "cell_type": "code",
   "execution_count": 62,
   "metadata": {
    "collapsed": false
   },
   "outputs": [
    {
     "data": {
      "text/plain": [
       "(array([ 507.,    0.,    0.,    0.,    0.,    0.,    0.,    0.,    0.,  493.]),\n",
       " array([-1. , -0.8, -0.6, -0.4, -0.2,  0. ,  0.2,  0.4,  0.6,  0.8,  1. ]),\n",
       " <a list of 10 Patch objects>)"
      ]
     },
     "execution_count": 62,
     "metadata": {},
     "output_type": "execute_result"
    },
    {
     "data": {
      "image/png": "[encoded data removed]",
      "text/plain": [
       "<matplotlib.figure.Figure at 0x10d40470>"
      ]
     },
     "metadata": {},
     "output_type": "display_data"
    }
   ],
   "source": [
    "#Problem 2\n",
    "trials = []\n",
    "for i in range(1000):\n",
    "    x = np.random.binomial(1, 0.5); #bernoulli\n",
    "    trials.append(1) if x == 1 else trials.append(-1);\n",
    "plt.title(\"Central Limit Theorem\")\n",
    "plt.hist(trials)"
   ]
  },
  {
   "cell_type": "code",
   "execution_count": null,
   "metadata": {
    "collapsed": true
   },
   "outputs": [],
   "source": []
  }
 ],
 "metadata": {
  "kernelspec": {
   "display_name": "Python 2",
   "language": "python",
   "name": "python2"
  },
  "language_info": {
   "codemirror_mode": {
    "name": "ipython",
    "version": 2
   },
   "file_extension": ".py",
   "mimetype": "text/x-python",
   "name": "python",
   "nbconvert_exporter": "python",
   "pygments_lexer": "ipython2",
   "version": "2.7.10"
  }
 },
 "nbformat": 4,
 "nbformat_minor": 0
}
