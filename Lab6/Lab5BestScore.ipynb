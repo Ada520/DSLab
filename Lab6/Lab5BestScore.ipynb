{
 "cells": [
  {
   "cell_type": "markdown",
   "metadata": {},
   "source": [
    "# Problem 3\n",
    "\n",
    "![](http://i.markdownnotes.com/image_9kryzAh.png)"
   ]
  },
  {
   "cell_type": "code",
   "execution_count": 34,
   "metadata": {
    "collapsed": false
   },
   "outputs": [],
   "source": [
    "from sklearn.linear_model import LinearRegression, RidgeCV, LassoCV\n",
    "from sklearn.decomposition import PCA\n",
    "from sklearn.model_selection import train_test_split\n",
    "from sklearn.metrics import mean_squared_error\n",
    "from sklearn.preprocessing import scale\n",
    "from sklearn.model_selection import cross_val_score\n",
    "import numpy as np\n",
    "import pandas as pd\n",
    "import seaborn as sns\n",
    "import matplotlib\n",
    "import matplotlib.pyplot as plt\n",
    "\n",
    "%matplotlib inline"
   ]
  },
  {
   "cell_type": "code",
   "execution_count": 24,
   "metadata": {
    "collapsed": false
   },
   "outputs": [],
   "source": [
    "boston = pd.read_csv(\"Data/boston.csv\")"
   ]
  },
  {
   "cell_type": "code",
   "execution_count": 25,
   "metadata": {
    "collapsed": false
   },
   "outputs": [
    {
     "data": {
      "text/html": [
       "<div>\n",
       "<style>\n",
       "    .dataframe thead tr:only-child th {\n",
       "        text-align: right;\n",
       "    }\n",
       "\n",
       "    .dataframe thead th {\n",
       "        text-align: left;\n",
       "    }\n",
       "\n",
       "    .dataframe tbody tr th {\n",
       "        vertical-align: top;\n",
       "    }\n",
       "</style>\n",
       "<table border=\"1\" class=\"dataframe\">\n",
       "  <thead>\n",
       "    <tr style=\"text-align: right;\">\n",
       "      <th></th>\n",
       "      <th>zn</th>\n",
       "      <th>indus</th>\n",
       "      <th>chas</th>\n",
       "      <th>nox</th>\n",
       "      <th>rm</th>\n",
       "      <th>age</th>\n",
       "      <th>dis</th>\n",
       "      <th>rad</th>\n",
       "      <th>tax</th>\n",
       "      <th>ptratio</th>\n",
       "      <th>black</th>\n",
       "      <th>lstat</th>\n",
       "      <th>medv</th>\n",
       "    </tr>\n",
       "  </thead>\n",
       "  <tbody>\n",
       "    <tr>\n",
       "      <th>0</th>\n",
       "      <td>18.0</td>\n",
       "      <td>2.31</td>\n",
       "      <td>0</td>\n",
       "      <td>0.538</td>\n",
       "      <td>6.575</td>\n",
       "      <td>65.2</td>\n",
       "      <td>4.0900</td>\n",
       "      <td>1</td>\n",
       "      <td>296</td>\n",
       "      <td>15.3</td>\n",
       "      <td>396.90</td>\n",
       "      <td>4.98</td>\n",
       "      <td>24.0</td>\n",
       "    </tr>\n",
       "    <tr>\n",
       "      <th>1</th>\n",
       "      <td>0.0</td>\n",
       "      <td>7.07</td>\n",
       "      <td>0</td>\n",
       "      <td>0.469</td>\n",
       "      <td>6.421</td>\n",
       "      <td>78.9</td>\n",
       "      <td>4.9671</td>\n",
       "      <td>2</td>\n",
       "      <td>242</td>\n",
       "      <td>17.8</td>\n",
       "      <td>396.90</td>\n",
       "      <td>9.14</td>\n",
       "      <td>21.6</td>\n",
       "    </tr>\n",
       "    <tr>\n",
       "      <th>2</th>\n",
       "      <td>0.0</td>\n",
       "      <td>7.07</td>\n",
       "      <td>0</td>\n",
       "      <td>0.469</td>\n",
       "      <td>7.185</td>\n",
       "      <td>61.1</td>\n",
       "      <td>4.9671</td>\n",
       "      <td>2</td>\n",
       "      <td>242</td>\n",
       "      <td>17.8</td>\n",
       "      <td>392.83</td>\n",
       "      <td>4.03</td>\n",
       "      <td>34.7</td>\n",
       "    </tr>\n",
       "    <tr>\n",
       "      <th>3</th>\n",
       "      <td>0.0</td>\n",
       "      <td>2.18</td>\n",
       "      <td>0</td>\n",
       "      <td>0.458</td>\n",
       "      <td>6.998</td>\n",
       "      <td>45.8</td>\n",
       "      <td>6.0622</td>\n",
       "      <td>3</td>\n",
       "      <td>222</td>\n",
       "      <td>18.7</td>\n",
       "      <td>394.63</td>\n",
       "      <td>2.94</td>\n",
       "      <td>33.4</td>\n",
       "    </tr>\n",
       "    <tr>\n",
       "      <th>4</th>\n",
       "      <td>0.0</td>\n",
       "      <td>2.18</td>\n",
       "      <td>0</td>\n",
       "      <td>0.458</td>\n",
       "      <td>7.147</td>\n",
       "      <td>54.2</td>\n",
       "      <td>6.0622</td>\n",
       "      <td>3</td>\n",
       "      <td>222</td>\n",
       "      <td>18.7</td>\n",
       "      <td>396.90</td>\n",
       "      <td>5.33</td>\n",
       "      <td>36.2</td>\n",
       "    </tr>\n",
       "  </tbody>\n",
       "</table>\n",
       "</div>"
      ],
      "text/plain": [
       "     zn  indus  chas    nox     rm   age     dis  rad  tax  ptratio   black  \\\n",
       "0  18.0   2.31     0  0.538  6.575  65.2  4.0900    1  296     15.3  396.90   \n",
       "1   0.0   7.07     0  0.469  6.421  78.9  4.9671    2  242     17.8  396.90   \n",
       "2   0.0   7.07     0  0.469  7.185  61.1  4.9671    2  242     17.8  392.83   \n",
       "3   0.0   2.18     0  0.458  6.998  45.8  6.0622    3  222     18.7  394.63   \n",
       "4   0.0   2.18     0  0.458  7.147  54.2  6.0622    3  222     18.7  396.90   \n",
       "\n",
       "   lstat  medv  \n",
       "0   4.98  24.0  \n",
       "1   9.14  21.6  \n",
       "2   4.03  34.7  \n",
       "3   2.94  33.4  \n",
       "4   5.33  36.2  "
      ]
     },
     "execution_count": 25,
     "metadata": {},
     "output_type": "execute_result"
    }
   ],
   "source": [
    "X = boston.drop('crim', axis = 1)\n",
    "y = boston.crim\n",
    "X.head()"
   ]
  },
  {
   "cell_type": "markdown",
   "metadata": {},
   "source": [
    "Here we decide to try subset selection to determine \n",
    "1. If there's any useless features\n",
    "2. If there's any outliers"
   ]
  },
  {
   "cell_type": "markdown",
   "metadata": {},
   "source": [
    "## Using subset selection"
   ]
  },
  {
   "cell_type": "code",
   "execution_count": 26,
   "metadata": {
    "collapsed": false
   },
   "outputs": [],
   "source": [
    "#http://www.science.smith.edu/~jcrouser/SDS293/labs/2016/lab8/Lab%208%20-%20Subset%20Selection%20in%20Python.pdf\n",
    "\n",
    "\n",
    "def processSubset(feature_set):\n",
    "# Fit model on feature_set and calculate RSS\n",
    "    model = sm.OLS(y,X[list(feature_set)])\n",
    "    regr = model.fit()\n",
    "    RSS = ((regr.predict(X[list(feature_set)]) - y) ** 2).sum()\n",
    "    return {\"model\":regr, \"RSS\":RSS}\n",
    "\n",
    "def getBest(k):\n",
    "    tic = time.time()\n",
    "    results = []\n",
    "    for combo in itertools.combinations(X.columns, k):\n",
    "        results.append(processSubset(combo))\n",
    "    # Wrap everything up in a nice dataframe\n",
    "    models = pd.DataFrame(results)\n",
    "    # Choose the model with the highest RSS\n",
    "    best_model = models.loc[models[\"RSS\"].argmin()]\n",
    "    toc = time.time()\n",
    "    print(\"Processed \", models.shape[0], \"models on\", k, \"predictors in\", (toc-tic), \"seconds.\")\n",
    "    # Return the best model, along with some other useful information about the model\n",
    "    return best_model\n",
    "\n"
   ]
  },
  {
   "cell_type": "code",
   "execution_count": 27,
   "metadata": {
    "collapsed": false
   },
   "outputs": [
    {
     "name": "stdout",
     "output_type": "stream",
     "text": [
      "('Processed ', 13, 'models on', 1, 'predictors in', 0.1959998607635498, 'seconds.')\n",
      "('Processed ', 78, 'models on', 2, 'predictors in', 0.5090000629425049, 'seconds.')\n",
      "('Processed ', 286, 'models on', 3, 'predictors in', 1.4620001316070557, 'seconds.')\n",
      "('Processed ', 715, 'models on', 4, 'predictors in', 2.6549999713897705, 'seconds.')\n",
      "('Processed ', 1287, 'models on', 5, 'predictors in', 5.495000123977661, 'seconds.')\n",
      "('Processed ', 1716, 'models on', 6, 'predictors in', 9.336999893188477, 'seconds.')\n",
      "('Processed ', 1716, 'models on', 7, 'predictors in', 11.407999992370605, 'seconds.')\n",
      "('Processed ', 1287, 'models on', 8, 'predictors in', 6.963000059127808, 'seconds.')\n",
      "('Processed ', 715, 'models on', 9, 'predictors in', 5.133999824523926, 'seconds.')\n",
      "('Processed ', 286, 'models on', 10, 'predictors in', 1.565999984741211, 'seconds.')\n",
      "('Processed ', 78, 'models on', 11, 'predictors in', 0.37400007247924805, 'seconds.')\n",
      "('Processed ', 13, 'models on', 12, 'predictors in', 0.07699990272521973, 'seconds.')\n",
      "('Processed ', 1, 'models on', 13, 'predictors in', 0.006000041961669922, 'seconds.')\n",
      "('Total elapsed time:', 45.27499985694885, 'seconds.')\n"
     ]
    }
   ],
   "source": [
    "import statsmodels.api as sm\n",
    "import time\n",
    "import itertools\n",
    "# Could take quite awhile to complete...\n",
    "models = pd.DataFrame(columns=[\"RSS\", \"model\"])\n",
    "tic = time.time()\n",
    "for i in range(1,14):\n",
    "    models.loc[i] = getBest(i)\n",
    "toc = time.time()\n",
    "print(\"Total elapsed time:\", (toc-tic), \"seconds.\")\n"
   ]
  },
  {
   "cell_type": "code",
   "execution_count": 28,
   "metadata": {
    "collapsed": false
   },
   "outputs": [
    {
     "name": "stdout",
     "output_type": "stream",
     "text": [
      "1     0.455430\n",
      "2     0.500974\n",
      "3     0.514421\n",
      "4     0.516209\n",
      "5     0.520030\n",
      "6     0.522209\n",
      "7     0.526229\n",
      "8     0.529445\n",
      "9     0.530262\n",
      "10    0.530665\n",
      "11    0.530812\n",
      "12    0.530823\n",
      "13    0.530826\n",
      "dtype: float64\n"
     ]
    }
   ],
   "source": [
    "# Gets the second element from each row (’model’) and pulls out its rsquared attribute\n",
    "\n",
    "print models.apply(lambda row: row[1].rsquared, axis=1)\n",
    "\n",
    "## As expected, the R2\n",
    "## statistic increases monotonically as more variables are included.\n",
    "## Plotting RSS, adjusted R2, AIC, and BIC for all of the models at once will help us decide which model\n",
    "## to select. Note the type = ”l” option tells R to connect the plotted points with lines:\n",
    "\n",
    "\n"
   ]
  },
  {
   "cell_type": "code",
   "execution_count": 35,
   "metadata": {
    "collapsed": false
   },
   "outputs": [
    {
     "data": {
      "text/plain": [
       "<matplotlib.text.Text at 0x4e9bdbe0>"
      ]
     },
     "execution_count": 35,
     "metadata": {},
     "output_type": "execute_result"
    },
    {
     "data": {
      "image/png": "[encoded data removed]",
      "text/plain": [
       "<matplotlib.figure.Figure at 0x3a3e98d0>"
      ]
     },
     "metadata": {},
     "output_type": "display_data"
    }
   ],
   "source": [
    "plt.figure(figsize=(20,10))\n",
    "plt.rcParams.update({\"font.size\": 18, \"lines.markersize\": 10})\n",
    "\n",
    "# Set up a 2x2 grid so we can look at 4 plots at once\n",
    "plt.subplot(2, 2, 1)\n",
    "\n",
    "# We will now plot a red dot to indicate the model with the largest adjusted R^2 statistic.\n",
    "# The argmax() function can be used to identify the location of the maximum point of a vector\n",
    "plt.plot(models[\"RSS\"])\n",
    "plt.xlabel(\"# Predictors\")\n",
    "plt.ylabel(\"RSS\")\n",
    "# We will now plot a red dot to indicate the model with the largest adjusted R^2 statistic.\n",
    "# The argmax() function can be used to identify the location of the maximum point of a vector\n",
    "rsquared = models.apply(lambda row: row[1].rsquared, axis=1)\n",
    "plt.subplot(2, 2, 2)\n",
    "plt.plot(rsquared)\n",
    "plt.plot(rsquared.argmax(), rsquared.max(), \"or\")\n",
    "plt.xlabel(\"# Predictors\")\n",
    "plt.ylabel(\"adjusted rsquared\")\n",
    "# We’ll do the same for AIC and BIC, this time looking for the models with the SMALLEST statistic\n",
    "           \n",
    "aic = models.apply(lambda row: row[1].aic, axis=1)\n",
    "plt.subplot(2, 2, 3)\n",
    "plt.plot(aic)\n",
    "plt.plot(aic.argmin(), aic.min(), \"or\")\n",
    "plt.xlabel(\"# Predictors\")\n",
    "plt.ylabel(\"AIC\")\n",
    "bic = models.apply(lambda row: row[1].bic, axis=1)\n",
    "plt.subplot(2, 2, 4)\n",
    "plt.plot(bic)\n",
    "plt.plot(bic.argmin(), bic.min(), \"or\")\n",
    "plt.xlabel(\"# Predictors\")\n",
    "plt.ylabel(\"BIC\")"
   ]
  },
  {
   "cell_type": "markdown",
   "metadata": {},
   "source": [
    "According to an AIC score, 8 predictors are the best.\n",
    "\n",
    "According to an BIC score, 3 predictors are the best.\n",
    "\n",
    "According to R^2 Value, all 13 predictors are the best."
   ]
  },
  {
   "cell_type": "code",
   "execution_count": 36,
   "metadata": {
    "collapsed": false
   },
   "outputs": [
    {
     "name": "stdout",
     "output_type": "stream",
     "text": [
      "('Processed ', 286, 'models on', 3, 'predictors in', 1.7689998149871826, 'seconds.')\n",
      "                            OLS Regression Results                            \n",
      "==============================================================================\n",
      "Dep. Variable:                   crim   R-squared:                       0.514\n",
      "Model:                            OLS   Adj. R-squared:                  0.512\n",
      "Method:                 Least Squares   F-statistic:                     177.6\n",
      "Date:                Mon, 16 Oct 2017   Prob (F-statistic):           1.60e-78\n",
      "Time:                        07:22:33   Log-Likelihood:                -1664.8\n",
      "No. Observations:                 506   AIC:                             3336.\n",
      "Df Residuals:                     503   BIC:                             3348.\n",
      "Df Model:                           3                                         \n",
      "Covariance Type:            nonrobust                                         \n",
      "==============================================================================\n",
      "                 coef    std err          t      P>|t|      [0.025      0.975]\n",
      "------------------------------------------------------------------------------\n",
      "rad            0.4850      0.038     12.815      0.000       0.411       0.559\n",
      "black         -0.0102      0.001     -7.817      0.000      -0.013      -0.008\n",
      "lstat          0.2090      0.043      4.868      0.000       0.125       0.293\n",
      "==============================================================================\n",
      "Omnibus:                      680.461   Durbin-Watson:                   1.454\n",
      "Prob(Omnibus):                  0.000   Jarque-Bera (JB):            93107.137\n",
      "Skew:                           6.848   Prob(JB):                         0.00\n",
      "Kurtosis:                      68.028   Cond. No.                         66.0\n",
      "==============================================================================\n",
      "\n",
      "Warnings:\n",
      "[1] Standard Errors assume that the covariance matrix of the errors is correctly specified.\n"
     ]
    }
   ],
   "source": [
    "# Let's get the 3 best from BIC\n",
    "\n",
    "print(getBest(3)[\"model\"].summary())"
   ]
  },
  {
   "cell_type": "code",
   "execution_count": 37,
   "metadata": {
    "collapsed": false
   },
   "outputs": [
    {
     "name": "stdout",
     "output_type": "stream",
     "text": [
      "('Processed ', 1287, 'models on', 8, 'predictors in', 6.678999900817871, 'seconds.')\n",
      "                            OLS Regression Results                            \n",
      "==============================================================================\n",
      "Dep. Variable:                   crim   R-squared:                       0.529\n",
      "Model:                            OLS   Adj. R-squared:                  0.522\n",
      "Method:                 Least Squares   F-statistic:                     70.04\n",
      "Date:                Mon, 16 Oct 2017   Prob (F-statistic):           1.19e-76\n",
      "Time:                        07:23:06   Log-Likelihood:                -1656.8\n",
      "No. Observations:                 506   AIC:                             3330.\n",
      "Df Residuals:                     498   BIC:                             3363.\n",
      "Df Model:                           8                                         \n",
      "Covariance Type:            nonrobust                                         \n",
      "==============================================================================\n",
      "                 coef    std err          t      P>|t|      [0.025      0.975]\n",
      "------------------------------------------------------------------------------\n",
      "zn             0.0435      0.017      2.540      0.011       0.010       0.077\n",
      "indus         -0.1222      0.066     -1.847      0.065      -0.252       0.008\n",
      "rm             0.9333      0.366      2.549      0.011       0.214       1.653\n",
      "dis           -0.6579      0.217     -3.039      0.003      -1.083      -0.233\n",
      "rad            0.4894      0.044     11.047      0.000       0.402       0.576\n",
      "black         -0.0062      0.003     -1.845      0.066      -0.013       0.000\n",
      "lstat          0.1726      0.059      2.914      0.004       0.056       0.289\n",
      "medv          -0.1576      0.056     -2.835      0.005      -0.267      -0.048\n",
      "==============================================================================\n",
      "Omnibus:                      666.275   Durbin-Watson:                   1.499\n",
      "Prob(Omnibus):                  0.000   Jarque-Bera (JB):            83480.289\n",
      "Skew:                           6.619   Prob(JB):                         0.00\n",
      "Kurtosis:                      64.517   Cond. No.                         502.\n",
      "==============================================================================\n",
      "\n",
      "Warnings:\n",
      "[1] Standard Errors assume that the covariance matrix of the errors is correctly specified.\n"
     ]
    }
   ],
   "source": [
    "# Let's get the 8 best from AIC \n",
    "\n",
    "print(getBest(8)[\"model\"].summary())"
   ]
  },
  {
   "cell_type": "markdown",
   "metadata": {},
   "source": [
    "Looking at the 8 best variables. We can recognize that the statistical significance of some variarbles are greater than 0.05. We will try with 3 variables first."
   ]
  },
  {
   "cell_type": "code",
   "execution_count": 45,
   "metadata": {
    "collapsed": false
   },
   "outputs": [],
   "source": [
    "subsetX = pd.concat((X.rad,X.black,X.lstat), axis =1 ,join = 'inner')"
   ]
  },
  {
   "cell_type": "code",
   "execution_count": 46,
   "metadata": {
    "collapsed": false
   },
   "outputs": [
    {
     "data": {
      "text/html": [
       "<div>\n",
       "<style>\n",
       "    .dataframe thead tr:only-child th {\n",
       "        text-align: right;\n",
       "    }\n",
       "\n",
       "    .dataframe thead th {\n",
       "        text-align: left;\n",
       "    }\n",
       "\n",
       "    .dataframe tbody tr th {\n",
       "        vertical-align: top;\n",
       "    }\n",
       "</style>\n",
       "<table border=\"1\" class=\"dataframe\">\n",
       "  <thead>\n",
       "    <tr style=\"text-align: right;\">\n",
       "      <th></th>\n",
       "      <th>rad</th>\n",
       "      <th>black</th>\n",
       "      <th>lstat</th>\n",
       "    </tr>\n",
       "  </thead>\n",
       "  <tbody>\n",
       "    <tr>\n",
       "      <th>0</th>\n",
       "      <td>1</td>\n",
       "      <td>396.90</td>\n",
       "      <td>4.98</td>\n",
       "    </tr>\n",
       "    <tr>\n",
       "      <th>1</th>\n",
       "      <td>2</td>\n",
       "      <td>396.90</td>\n",
       "      <td>9.14</td>\n",
       "    </tr>\n",
       "    <tr>\n",
       "      <th>2</th>\n",
       "      <td>2</td>\n",
       "      <td>392.83</td>\n",
       "      <td>4.03</td>\n",
       "    </tr>\n",
       "    <tr>\n",
       "      <th>3</th>\n",
       "      <td>3</td>\n",
       "      <td>394.63</td>\n",
       "      <td>2.94</td>\n",
       "    </tr>\n",
       "    <tr>\n",
       "      <th>4</th>\n",
       "      <td>3</td>\n",
       "      <td>396.90</td>\n",
       "      <td>5.33</td>\n",
       "    </tr>\n",
       "  </tbody>\n",
       "</table>\n",
       "</div>"
      ],
      "text/plain": [
       "   rad   black  lstat\n",
       "0    1  396.90   4.98\n",
       "1    2  396.90   9.14\n",
       "2    2  392.83   4.03\n",
       "3    3  394.63   2.94\n",
       "4    3  396.90   5.33"
      ]
     },
     "execution_count": 46,
     "metadata": {},
     "output_type": "execute_result"
    }
   ],
   "source": [
    "subsetX.head()"
   ]
  },
  {
   "cell_type": "code",
   "execution_count": 49,
   "metadata": {
    "collapsed": false
   },
   "outputs": [
    {
     "data": {
      "image/png": "[encoded data removed]",
      "text/plain": [
       "<matplotlib.figure.Figure at 0x393a57f0>"
      ]
     },
     "metadata": {},
     "output_type": "display_data"
    }
   ],
   "source": [
    "#Let's look at some boxplots to see if there's any bad outliers\n",
    "\n",
    "fig, (ax1, ax2,ax3) = plt.subplots(1, 3)\n",
    "fig.tight_layout(pad=0.7)\n",
    "\n",
    "#Rent\n",
    "plt.title(\"Rad\")\n",
    "sns.boxplot(y= subsetX['rad'],data =subsetX, ax = ax1)\n",
    "sns.stripplot(y=subsetX['rad'], jitter = True, ax = ax1);\n",
    "\n",
    "#Democracy\n",
    "plt.title(\"Black\")\n",
    "sns.boxplot(y= subsetX['black'], data =subsetX, color = 'g', ax = ax2)\n",
    "sns.stripplot(y=subsetX['black'], jitter = True, color = 'g', ax = ax2);\n",
    "\n",
    "#Inst\n",
    "plt.title(\"LStat\")\n",
    "sns.boxplot(y= subsetX['lstat'], data =subsetX, color = 'r', ax = ax3)\n",
    "sns.stripplot(y=subsetX['lstat'], jitter = True, color = 'r', ax = ax3);"
   ]
  },
  {
   "cell_type": "code",
   "execution_count": 52,
   "metadata": {
    "collapsed": true
   },
   "outputs": [],
   "source": [
    "X_train, X_test, y_train, y_test = train_test_split(subsetX, y, test_size = 0.2, random_state=10)"
   ]
  },
  {
   "cell_type": "code",
   "execution_count": 58,
   "metadata": {
    "collapsed": false
   },
   "outputs": [
    {
     "name": "stdout",
     "output_type": "stream",
     "text": [
      "  Huber Regression\n",
      "    test error: 17.309466501\n",
      "    cross-validation error: 55.6878749619\n",
      "    Huber R^2 Score: 0.540730154913\n",
      "  Lasso Regression\n",
      "    test error: 14.0299224397\n",
      "    training error: 49.3333113636\n",
      "    cross-validation error: 51.9706344608\n",
      "    Lasso R^2 Score: 0.627745875062\n"
     ]
    }
   ],
   "source": [
    "from sklearn.linear_model import HuberRegressor\n",
    "\n",
    "print \"  Huber Regression\"\n",
    "huber = HuberRegressor(alpha = 0.0)\n",
    "huber.fit(X_train,y_train)\n",
    "huber_pred = huber.predict(X_test)\n",
    "MSE = mean_squared_error(y_test, huber_pred)\n",
    "CVS = crossValScore = np.mean(-cross_val_score(huber, X_train, y_train, cv=20, scoring='neg_mean_squared_error'))\n",
    "print \"    test error:\", MSE\n",
    "print \"    cross-validation error:\", CVS\n",
    "print \"    Huber R^2 Score: \" + str(huber.score(X_test,y_test))\n",
    "\n",
    "lambdas = [0.001, 0.01, 0.1, 1, 10, 100, 1000]\n",
    "#Lasso\n",
    "print \"  Lasso Regression\"\n",
    "lassocv = LassoCV(alphas = lambdas, cv = 10)\n",
    "lassocv.fit(X_train, y_train)\n",
    "y_pred = lassocv.predict(X_test)\n",
    "MSE = mean_squared_error(y_test, y_pred)\n",
    "TMSE = mean_squared_error(y_train, lassocv.predict(X_train))\n",
    "CVS = np.mean(-cross_val_score(lassocv, X_train, y_train, cv=20, scoring='neg_mean_squared_error'))\n",
    "print \"    test error:\", MSE\n",
    "print \"    training error:\", TMSE\n",
    "print \"    cross-validation error:\", CVS\n",
    "print \"    Lasso R^2 Score: \" + str(lassocv.score(X_test,y_test))"
   ]
  },
  {
   "cell_type": "code",
   "execution_count": 59,
   "metadata": {
    "collapsed": false
   },
   "outputs": [
    {
     "data": {
      "text/html": [
       "<div>\n",
       "<style>\n",
       "    .dataframe thead tr:only-child th {\n",
       "        text-align: right;\n",
       "    }\n",
       "\n",
       "    .dataframe thead th {\n",
       "        text-align: left;\n",
       "    }\n",
       "\n",
       "    .dataframe tbody tr th {\n",
       "        vertical-align: top;\n",
       "    }\n",
       "</style>\n",
       "<table border=\"1\" class=\"dataframe\">\n",
       "  <thead>\n",
       "    <tr style=\"text-align: right;\">\n",
       "      <th></th>\n",
       "      <th>zn</th>\n",
       "      <th>indus</th>\n",
       "      <th>rm</th>\n",
       "      <th>dis</th>\n",
       "      <th>rad</th>\n",
       "      <th>ptratio</th>\n",
       "      <th>lstat</th>\n",
       "      <th>medv</th>\n",
       "    </tr>\n",
       "  </thead>\n",
       "  <tbody>\n",
       "    <tr>\n",
       "      <th>0</th>\n",
       "      <td>18.0</td>\n",
       "      <td>2.31</td>\n",
       "      <td>6.575</td>\n",
       "      <td>4.0900</td>\n",
       "      <td>1</td>\n",
       "      <td>15.3</td>\n",
       "      <td>4.98</td>\n",
       "      <td>24.0</td>\n",
       "    </tr>\n",
       "    <tr>\n",
       "      <th>1</th>\n",
       "      <td>0.0</td>\n",
       "      <td>7.07</td>\n",
       "      <td>6.421</td>\n",
       "      <td>4.9671</td>\n",
       "      <td>2</td>\n",
       "      <td>17.8</td>\n",
       "      <td>9.14</td>\n",
       "      <td>21.6</td>\n",
       "    </tr>\n",
       "    <tr>\n",
       "      <th>2</th>\n",
       "      <td>0.0</td>\n",
       "      <td>7.07</td>\n",
       "      <td>7.185</td>\n",
       "      <td>4.9671</td>\n",
       "      <td>2</td>\n",
       "      <td>17.8</td>\n",
       "      <td>4.03</td>\n",
       "      <td>34.7</td>\n",
       "    </tr>\n",
       "    <tr>\n",
       "      <th>3</th>\n",
       "      <td>0.0</td>\n",
       "      <td>2.18</td>\n",
       "      <td>6.998</td>\n",
       "      <td>6.0622</td>\n",
       "      <td>3</td>\n",
       "      <td>18.7</td>\n",
       "      <td>2.94</td>\n",
       "      <td>33.4</td>\n",
       "    </tr>\n",
       "    <tr>\n",
       "      <th>4</th>\n",
       "      <td>0.0</td>\n",
       "      <td>2.18</td>\n",
       "      <td>7.147</td>\n",
       "      <td>6.0622</td>\n",
       "      <td>3</td>\n",
       "      <td>18.7</td>\n",
       "      <td>5.33</td>\n",
       "      <td>36.2</td>\n",
       "    </tr>\n",
       "  </tbody>\n",
       "</table>\n",
       "</div>"
      ],
      "text/plain": [
       "     zn  indus     rm     dis  rad  ptratio  lstat  medv\n",
       "0  18.0   2.31  6.575  4.0900    1     15.3   4.98  24.0\n",
       "1   0.0   7.07  6.421  4.9671    2     17.8   9.14  21.6\n",
       "2   0.0   7.07  7.185  4.9671    2     17.8   4.03  34.7\n",
       "3   0.0   2.18  6.998  6.0622    3     18.7   2.94  33.4\n",
       "4   0.0   2.18  7.147  6.0622    3     18.7   5.33  36.2"
      ]
     },
     "execution_count": 59,
     "metadata": {},
     "output_type": "execute_result"
    }
   ],
   "source": [
    "#Let's try with 8 now.\n",
    "Xnew = X.drop(['nox', 'chas', 'age', 'tax', 'black'], axis=1)\n",
    "Xnew.head()"
   ]
  },
  {
   "cell_type": "code",
   "execution_count": 60,
   "metadata": {
    "collapsed": true
   },
   "outputs": [],
   "source": [
    "X_train, X_test, y_train, y_test = train_test_split(Xnew, y, test_size = 0.2, random_state=10)"
   ]
  },
  {
   "cell_type": "code",
   "execution_count": 61,
   "metadata": {
    "collapsed": false
   },
   "outputs": [
    {
     "name": "stdout",
     "output_type": "stream",
     "text": [
      "  Huber Regression\n",
      "    test error: 18.2779634723\n",
      "    cross-validation error: 54.7211376805\n",
      "    Huber R^2 Score: 0.515033149522\n",
      "  Lasso Regression\n",
      "    test error: 18.9179548843\n",
      "    training error: 46.9983457942\n",
      "    cross-validation error: 49.2136571012\n",
      "    Lasso R^2 Score: 0.498052339822\n"
     ]
    }
   ],
   "source": [
    "print \"  Huber Regression\"\n",
    "huber = HuberRegressor(alpha = 0.0)\n",
    "huber.fit(X_train,y_train)\n",
    "huber_pred = huber.predict(X_test)\n",
    "MSE = mean_squared_error(y_test, huber_pred)\n",
    "CVS = crossValScore = np.mean(-cross_val_score(huber, X_train, y_train, cv=20, scoring='neg_mean_squared_error'))\n",
    "print \"    test error:\", MSE\n",
    "print \"    cross-validation error:\", CVS\n",
    "print \"    Huber R^2 Score: \" + str(huber.score(X_test,y_test))\n",
    "\n",
    "lambdas = [0.001, 0.01, 0.1, 1, 10, 100, 1000]\n",
    "#Lasso\n",
    "print \"  Lasso Regression\"\n",
    "lassocv = LassoCV(alphas = lambdas, cv = 10)\n",
    "lassocv.fit(X_train, y_train)\n",
    "y_pred = lassocv.predict(X_test)\n",
    "MSE = mean_squared_error(y_test, y_pred)\n",
    "TMSE = mean_squared_error(y_train, lassocv.predict(X_train))\n",
    "CVS = np.mean(-cross_val_score(lassocv, X_train, y_train, cv=20, scoring='neg_mean_squared_error'))\n",
    "print \"    test error:\", MSE\n",
    "print \"    training error:\", TMSE\n",
    "print \"    cross-validation error:\", CVS\n",
    "print \"    Lasso R^2 Score: \" + str(lassocv.score(X_test,y_test))"
   ]
  },
  {
   "cell_type": "code",
   "execution_count": null,
   "metadata": {
    "collapsed": true
   },
   "outputs": [],
   "source": []
  }
 ],
 "metadata": {
  "kernelspec": {
   "display_name": "Python 2",
   "language": "python",
   "name": "python2"
  },
  "language_info": {
   "codemirror_mode": {
    "name": "ipython",
    "version": 2
   },
   "file_extension": ".py",
   "mimetype": "text/x-python",
   "name": "python",
   "nbconvert_exporter": "python",
   "pygments_lexer": "ipython2",
   "version": "2.7.13"
  }
 },
 "nbformat": 4,
 "nbformat_minor": 0
}
