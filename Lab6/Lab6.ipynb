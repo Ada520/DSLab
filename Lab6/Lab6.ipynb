{
 "cells": [
  {
   "cell_type": "markdown",
   "metadata": {},
   "source": [
    "# <p style=\"text-align: center;\">EE 379K: Data Science Lab</p>\n",
    "# <p style=\"text-align: center;\">Lab 6 - 10/16/17</p>\n",
    "## <p style=\"text-align: center;\">Rachel Chen and Kevin Yee</p>\n",
    "### <p style=\"text-align: center;\"> rjc2737 and kjy252</p>"
   ]
  },
  {
   "cell_type": "markdown",
   "metadata": {},
   "source": [
    "#Problem 1 \n",
    "In this problem we will use synthetic data sets to explore the bias-variance tradeoffincurred by using regularization.\n",
    "\n",
    "* Generate data of the form: \n",
    "$$ y = X\\beta + \\epsilon $$ \n",
    "\n",
    "where X is an n x p matrix where n = 51, p = 50, and each $X_{ij} \\sim N(0,1)$. Also, generate the noise according to $\\epsilon_i \\sim N(0,1/4)$. Let $\\beta$ be the all ones vector for simplicity.\n",
    "\n",
    "By repeatedly doing the experiment and generating fresh data (fresh X, and y, and hence $\\epsilon$ but keeping $\\beta$ fixed, you will estimate many diffferent solutions, $\\hat{\\beta}$. Estimate the mean and variance of $\\hat{\\beta}$. Note that $\\hat{\\beta}$ is a vector, so for this exercise simply estimate the variance of a single component.\n",
    "\n",
    "\n",
    "* Use ridge regression i.e. $l_2$ regularization. Vary the regularization coefficient $\\lambda = 0.01, 0.1, 1, 10, 100$ and repeat the above experiment. What do you observe? As you increase $\\lambda$ is the model becoming more simple or more complex? As you increase $\\lambda$ is performance becoming better or worse? "
   ]
  },
  {
   "cell_type": "markdown",
   "metadata": {},
   "source": [
    "#Answer"
   ]
  },
  {
   "cell_type": "code",
   "execution_count": 2,
   "metadata": {
    "collapsed": true
   },
   "outputs": [],
   "source": [
    "import numpy as np\n",
    "import pandas as pd\n",
    "import matplotlib\n",
    "import matplotlib.pyplot as plt\n",
    "from sklearn.linear_model import LinearRegression, Ridge\n",
    "from sklearn.model_selection import cross_val_score\n",
    "%matplotlib inline\n",
    "\n",
    "import warnings\n",
    "warnings.filterwarnings('ignore')"
   ]
  },
  {
   "cell_type": "code",
   "execution_count": 3,
   "metadata": {},
   "outputs": [
    {
     "name": "stdout",
     "output_type": "stream",
     "text": [
      "Ordinary Least Squares:\n",
      " Mean of beta hat using OLS: 1.0\n",
      " Variance of beta hat using OLS: 1.92053666867e-26\n",
      "\n",
      "Ridge Regression:\n",
      "\n",
      "lambda = 0.01\n",
      " Mean of beta hat using Ridge: 0.943064075103\n",
      " Variance of beta hat using Ridge: 0.0366113509967\n",
      "\n",
      "lambda = 0.1\n",
      " Mean of beta hat using Ridge: 0.889889203338\n",
      " Variance of beta hat using Ridge: 0.0659038736155\n",
      "\n",
      "lambda = 1\n",
      " Mean of beta hat using Ridge: 0.793002172341\n",
      " Variance of beta hat using Ridge: 0.11204086511\n",
      "\n",
      "lambda = 10\n",
      " Mean of beta hat using Ridge: 0.608730650802\n",
      " Variance of beta hat using Ridge: 0.117441818004\n",
      "\n",
      "lambda = 100\n",
      " Mean of beta hat using Ridge: 0.261882902213\n",
      " Variance of beta hat using Ridge: 0.0447470897779\n"
     ]
    }
   ],
   "source": [
    "#generate data\n",
    "X = np.random.normal(0,1, size = (51,50))\n",
    "e = np.random.normal(0,.25)\n",
    "beta = np.ones((51,50))\n",
    "\n",
    "#Create OLS unbiased model to estiamte beta hat \n",
    "linear = LinearRegression()\n",
    "\n",
    "#Compute y\n",
    "y = X.dot(beta.T) + e\n",
    "\n",
    "#Compute coefficient with Linear regression model: \n",
    "linear.fit(X,y)\n",
    "\n",
    "mean = []\n",
    "var = []\n",
    "for i in range(1,1000):\n",
    "    X = np.random.normal(0,1, size = (51,50))\n",
    "    e = np.random.normal(0,.25)\n",
    "    y = X.dot(beta.T) + e\n",
    "    linear.fit(X,y)\n",
    "    mean.append(np.mean(linear.coef_))\n",
    "    var.append(np.var(linear.coef_))\n",
    "    \n",
    "print \"Ordinary Least Squares:\"\n",
    "print \" Mean of beta hat using OLS: \" + str(np.mean(mean))\n",
    "print \" Variance of beta hat using OLS: \" + str(np.mean(var))\n",
    "\n",
    "alphas = [0.01, 0.1, 1, 10, 100]\n",
    "print \"\\nRidge Regression:\"\n",
    "for alpha in alphas:\n",
    "    ridge = Ridge(alpha = alpha).fit(X,y)\n",
    "    print\n",
    "    print \"lambda = \" + str(alpha)\n",
    "    print \" Mean of beta hat using Ridge: \" + str(np.mean(ridge.coef_))\n",
    "    print \" Variance of beta hat using Ridge: \"+ str(np.var(ridge.coef_))"
   ]
  },
  {
   "cell_type": "code",
   "execution_count": 4,
   "metadata": {},
   "outputs": [
    {
     "data": {
      "text/plain": [
       "<matplotlib.text.Text at 0xc56a470>"
      ]
     },
     "execution_count": 4,
     "metadata": {},
     "output_type": "execute_result"
    },
    {
     "data": {
      "image/png": "[encoded data removed]",
      "text/plain": [
       "<matplotlib.figure.Figure at 0xc280438>"
      ]
     },
     "metadata": {},
     "output_type": "display_data"
    }
   ],
   "source": [
    "def rmse_cv(model):\n",
    "    rmse= np.sqrt(-cross_val_score(model, X, y, scoring=\"neg_mean_squared_error\", cv = 5))\n",
    "    return(rmse)\n",
    "\n",
    "\n",
    "alphas = [0.01, 0.1, 1, 10, 100]\n",
    "cv_ridge = [rmse_cv(Ridge(alpha = alpha)).mean() \n",
    "            for alpha in alphas]\n",
    "\n",
    "coefs = [Ridge(alpha = alpha).fit(X,y).coef_.mean() for alpha in alphas]\n",
    "\n",
    "plt.figure(figsize=(16,6))\n",
    "plt.subplot(121)\n",
    "cv_ridge = pd.Series(cv_ridge, index = alphas)\n",
    "cv_ridge.plot(title = \"Validation\")\n",
    "plt.xlabel(\"alpha\")\n",
    "plt.ylabel(\"rmse\")\n",
    "\n",
    "plt.subplot(122)\n",
    "plt.plot(alphas,coefs)\n",
    "plt.xlabel('alpha')\n",
    "plt.ylabel('weights')\n",
    "plt.title('Ridge coefficients as a function of the regularization')\n"
   ]
  },
  {
   "cell_type": "markdown",
   "metadata": {},
   "source": [
    "From the figure comparing alpha and rmse, the model is getting increasingly worse as alpha is increasing\n",
    "\n",
    "From the figure comparing alpha and weights, the model is getting increasingly simpler as the weights of $\\hat{\\beta}$ decreases\n"
   ]
  },
  {
   "cell_type": "markdown",
   "metadata": {},
   "source": [
    "# Problem 2 \n",
    "Problem 9 from Chapter 6.\n",
    "(Predicting  the  number  of  applications  in  College)  Note  that  you  will  have  to  read  about  PCR(Principal Components Regression) and PLS (Partial Least Squares ) in the book, since we did not discuss these in class.\n",
    "\n",
    "![](http://i.markdownnotes.com/image_7m46Jzg.png)"
   ]
  },
  {
   "cell_type": "markdown",
   "metadata": {},
   "source": [
    "#Answer"
   ]
  },
  {
   "cell_type": "code",
   "execution_count": 61,
   "metadata": {
    "collapsed": true
   },
   "outputs": [],
   "source": [
    "import numpy as np\n",
    "import pandas as pd\n",
    "import matplotlib\n",
    "import matplotlib.pyplot as plt\n",
    "from sklearn.preprocessing import scale \n",
    "from sklearn.linear_model import LinearRegression, Ridge, Lasso, RidgeCV, LassoCV\n",
    "from sklearn.model_selection import cross_val_score\n",
    "from sklearn.cross_decomposition import PLSRegression, PLSSVD\n",
    "from sklearn.cross_validation import train_test_split, LeaveOneOut, KFold, cross_val_score\n",
    "from sklearn.metrics import confusion_matrix, mean_squared_error\n",
    "from sklearn.decomposition import PCA\n",
    "from sklearn.model_selection import GridSearchCV\n",
    "from sklearn import cross_validation\n",
    "%matplotlib inline\n",
    "import warnings\n",
    "warnings.filterwarnings('ignore')"
   ]
  },
  {
   "cell_type": "code",
   "execution_count": 62,
   "metadata": {},
   "outputs": [
    {
     "name": "stdout",
     "output_type": "stream",
     "text": [
      "OLS Linear Regression MSE: 788016.339525\n",
      "Ridge Regression MSE: 788849.335783\n",
      "Lasso Regression MSE: 789339.4189\n",
      "Lasso, Non Zero Coefficients 17\n"
     ]
    }
   ],
   "source": [
    "college = pd.read_csv(\"Data/College.csv\")\n",
    "\n",
    "#split data up\n",
    "y = college.Apps\n",
    "X = college.drop('Apps',axis = 1)\n",
    "X['Private'] = X['Private'].replace('Yes',1).replace('No',0)\n",
    "X = X.loc[:, \"Private\":]\n",
    "X.head()\n",
    "\n",
    "#split data\n",
    "X_train, X_test, y_train, y_test = train_test_split(X,y,test_size = 0.25, random_state=20)\n",
    "\n",
    "\n",
    "#iniatlize models \n",
    "alphas = [0.05, 0.1, 0.3, 1, 3, 5, 10, 15, 30, 50, 75]\n",
    "ols = LinearRegression()\n",
    "ridgeCV = RidgeCV(alphas=alphas, cv=10)\n",
    "lassoCV = LassoCV(alphas=alphas, cv=10, max_iter=10000)\n",
    "\n",
    "# Least Squares\n",
    "ols.fit(X_train, y_train)\n",
    "olsmse = mean_squared_error(y_test, ols.predict(X_test))\n",
    "\n",
    "print \"OLS Linear Regression MSE: \" + str(olsmse)\n",
    "\n",
    "# RidgeCV \n",
    "ridgeCV.fit(X_train, y_train)\n",
    "ridgemse = mean_squared_error(y_test, ridgeCV.predict(X_test))\n",
    "                  \n",
    "print \"Ridge Regression MSE: \" + str(ridgemse)\n",
    "# LassoCV\n",
    "lassoCV.fit(X_train, y_train)\n",
    "lassomse = mean_squared_error(y_test, lassoCV.predict(X_test))\n",
    "                  \n",
    "print \"Lasso Regression MSE: \" + str(lassomse)\n",
    "print \"Lasso, Non Zero Coefficients\", len(lassoCV.coef_.nonzero()[0])"
   ]
  },
  {
   "cell_type": "code",
   "execution_count": 63,
   "metadata": {
    "scrolled": false
   },
   "outputs": [
    {
     "name": "stdout",
     "output_type": "stream",
     "text": [
      "[  31.54   57.04   64.04   69.86   75.44   80.48   84.15   87.57   90.6\n",
      "   93.03   95.05   96.85   97.95   98.74   99.37   99.84  100.01]\n"
     ]
    },
    {
     "data": {
      "image/png": "[encoded data removed]",
      "text/plain": [
       "<matplotlib.figure.Figure at 0xf9779b0>"
      ]
     },
     "metadata": {},
     "output_type": "display_data"
    }
   ],
   "source": [
    "# https://stats.stackexchange.com/questions/82050/principal-component-analysis-and-regression-in-python\n",
    "#PCR\n",
    "pca = PCA()\n",
    "pc_train_x = pca.fit_transform(scale(X_train))\n",
    "pc_test_x = pca.fit_transform(scale(X_test))\n",
    "\n",
    "\n",
    "fig, (ax1, ax2, ax3) = plt.subplots(1,3, figsize=(16,6))\n",
    "\n",
    "#Plot Expalained Variance to determine best components\n",
    "pc_train_x = pca.fit_transform(scale(X_train))\n",
    "ax1.set_title(\"Variance vs # Components\")\n",
    "xVals = [n for n in range(1,len(X_train.columns)+1)]\n",
    "explainedVar = np.cumsum(np.round(pca.explained_variance_ratio_, decimals=4)*100)\n",
    "print explainedVar\n",
    "ax1.scatter(xVals,explainedVar)\n",
    "\n",
    "\n",
    "\n",
    "mse = []\n",
    "linearpcr = LinearRegression()\n",
    "\n",
    "\n",
    "#Find number of components using cross validation mse scores\n",
    "#Zero Components\n",
    "mse.append(np.mean(-1 * cross_val_score(linearpcr, np.ones((len(pc_train_x), 1)),\n",
    "                                        y_train, cv=20, scoring='neg_mean_squared_error')))\n",
    "\n",
    "#One to Ten Components\n",
    "for i in range(1, len(X_train.columns)):\n",
    "    mse.append(np.mean(-cross_val_score(linearpcr, pc_train_x[:, :i], y_train, cv=10,\n",
    "                                    scoring='neg_mean_squared_error')))\n",
    "    \n",
    "#Plot MSE to determine best components\n",
    "ax2.plot(mse)\n",
    "ax2.set_title(\"MSE vs # Components using Cross Validation\")\n",
    "\n",
    "#Plot disregarding intercept\n",
    "ax3.plot([n for n in range(1,len(X_train.columns))], mse[1:],'-v')\n",
    "\n",
    "pcamse = []\n",
    "for i in range(1,len(X_train.columns)):\n",
    "    linearpcr.fit(pc_train_x[:, :i], y_train)\n",
    "    pcamse.append(mean_squared_error(y_test, linearpcr.predict(pc_test_x[:,:i])))\n",
    "    \n",
    "ax3.plot(pcamse)\n",
    "ax3.set_title(\"MSE vs # Components fitting on Test Set\")\n",
    "\n",
    "linearpcr.fit(pc_train_x[:, 0:9], y_train)\n",
    "pcrmse = mean_squared_error(y_test, linearpcr.predict(pc_test_x[:,0:9]))"
   ]
  },
  {
   "cell_type": "code",
   "execution_count": 64,
   "metadata": {},
   "outputs": [
    {
     "name": "stdout",
     "output_type": "stream",
     "text": [
      "The minimum MSE obtained is with 17 components with an MSE of: 1527014.99208\n",
      "The MSE obtained with 10 components is: 2663349.37745 which explains about: 93.03 percent of variance\n",
      "PCR Regression MSE on Test set: 7108876.60507\n"
     ]
    }
   ],
   "source": [
    "print \"The minimum MSE obtained is with 17 components with an MSE of: \" + str(min(mse))\n",
    "print \"The MSE obtained with 10 components is: \"+str(mse[9])+\" which explains about: \"+str(explainedVar[9])+\" percent of variance\"\n",
    "\n",
    "print \"PCR Regression MSE on Test set: \" + str(pcrmse)"
   ]
  },
  {
   "cell_type": "markdown",
   "metadata": {},
   "source": [
    "Using cross-validation of the training set with a PCR model, we recognize that 17 components produces the lowest of MSE of ~1500000. \n",
    "\n",
    "However, this makes the purpose of PCR pointless. We recognize that 10 components, achieves 93% of variance (about 1/2 of the features can explain the variance of the data set).\n",
    "Using M = 10, we get a MSE of ~2660000.\n",
    "\n",
    "When running the model on the test set, we saw that 3 components performed the best (orange line in figure 3)."
   ]
  },
  {
   "cell_type": "code",
   "execution_count": 103,
   "metadata": {},
   "outputs": [
    {
     "name": "stdout",
     "output_type": "stream",
     "text": [
      "\n",
      "The lowest MSE obtained is: 1454598.72511 with 13 components\n"
     ]
    },
    {
     "data": {
      "image/png": "[encoded data removed]",
      "text/plain": [
       "<matplotlib.figure.Figure at 0xf949898>"
      ]
     },
     "metadata": {},
     "output_type": "display_data"
    }
   ],
   "source": [
    "# Using PLS \n",
    "# http://www.mathstat.dal.ca/~aarms2014/StatLearn/assignments/A3sol_2.pdf\n",
    "# https://rpubs.com/ppaquay/65562\n",
    "mse = []\n",
    "mse.append(0);\n",
    "for i in range(1, len(X_train.columns)):    \n",
    "    plsReg = PLSRegression(n_components=i)\n",
    "    mse.append(np.mean(-cross_val_score(plsReg, scale(X_train), y_train, cv=10,\n",
    "                                    scoring='neg_mean_squared_error')))\n",
    "\n",
    "    #print \"Number of Components: \", i, \"MSE Score: \", mse[i]\n",
    "\n",
    "\n",
    "plt.plot(mse[1:])\n",
    "plt.title(\"MSE of Training Set using Cross Validation\")\n",
    "\n",
    "print \"\\nThe lowest MSE obtained is:\",str(min(mse[1:])), \"with\",str(mse.index(min(mse[1:]))), \"components\""
   ]
  },
  {
   "cell_type": "code",
   "execution_count": 104,
   "metadata": {},
   "outputs": [
    {
     "name": "stdout",
     "output_type": "stream",
     "text": [
      "PLS Regression MSE on Test set: 1991779.47678\n"
     ]
    }
   ],
   "source": [
    "plsReg = PLSRegression(n_components = 10)\n",
    "plsReg.fit(scale(X_train),y_train)\n",
    "plsmse = mean_squared_error(y_test,plsReg.predict(scale(X_test)))\n",
    "print \"PLS Regression MSE on Test set: \" + str(plsmse)"
   ]
  },
  {
   "cell_type": "markdown",
   "metadata": {},
   "source": [
    "Using, PLS, we observe that the minimum component obtained is with M = 9 components with an MSE of ~1400000."
   ]
  },
  {
   "cell_type": "code",
   "execution_count": 105,
   "metadata": {},
   "outputs": [
    {
     "name": "stdout",
     "output_type": "stream",
     "text": [
      "MSE\n",
      "OLS Linear Regression MSE: 788016.339525\n",
      "Ridge Regression MSE: 788849.335783\n",
      "Lasso Regression MSE: 789339.4189\n",
      "PCR Regression MSE on Test set: 7108876.60507\n",
      "PLS Regression MSE on Test set: 1991779.47678\n",
      "\n",
      "R^2 Scores\n",
      "OLS R^2 Score:0.913122839795\n",
      "Ridge R^2 Score:0.913031003693\n",
      "Lasso R^2 Score:0.91297697305\n",
      "PCR R^2 Score:0.216261160186\n",
      "PLS R^2 Score: 0.780410461031\n"
     ]
    }
   ],
   "source": [
    "print \"MSE\"\n",
    "print \"OLS Linear Regression MSE: \" + str(olsmse)\n",
    "print \"Ridge Regression MSE: \" + str(ridgemse)\n",
    "print \"Lasso Regression MSE: \" + str(lassomse)\n",
    "print \"PCR Regression MSE on Test set: \" + str(pcrmse)\n",
    "print \"PLS Regression MSE on Test set: \" + str(plsmse)\n",
    "\n",
    "print \"\\nR^2 Scores\"\n",
    "print \"OLS R^2 Score:\" + str(ols.score(X_test,y_test))\n",
    "print \"Ridge R^2 Score:\" + str(ridgeCV.score(X_test,y_test))\n",
    "print \"Lasso R^2 Score:\" + str(lassoCV.score(X_test,y_test))\n",
    "print \"PCR R^2 Score:\" + str(linearpcr.score(pc_test_x[:, 0:9],y_test))\n",
    "print \"PLS R^2 Score: \" + str(plsReg.score(scale(X_test),y_test))"
   ]
  },
  {
   "cell_type": "markdown",
   "metadata": {},
   "source": [
    "Ordinary Least Squares, Ridge, and Lasso seem to do a decent job in predicting the test set with R^2 values of approximately 91% \n",
    "\n",
    "However, PLS has an R^2 value of 78% (slightly worse). Even though the MSE on the test set was small, the R^2 value was rather poor.\n",
    "\n",
    "PCR Regression has the worst prediction power ."
   ]
  },
  {
   "cell_type": "markdown",
   "metadata": {},
   "source": []
  },
  {
   "cell_type": "markdown",
   "metadata": {},
   "source": [
    "# Problem 3\n",
    "\n",
    "![](http://i.markdownnotes.com/image_9kryzAh.png)"
   ]
  },
  {
   "cell_type": "code",
   "execution_count": 78,
   "metadata": {
    "collapsed": true
   },
   "outputs": [],
   "source": [
    "from sklearn.linear_model import LinearRegression, RidgeCV, LassoCV\n",
    "from sklearn.decomposition import PCA\n",
    "from sklearn.model_selection import train_test_split\n",
    "from sklearn.metrics import mean_squared_error\n",
    "from sklearn.preprocessing import scale\n",
    "from sklearn.model_selection import cross_val_score"
   ]
  },
  {
   "cell_type": "code",
   "execution_count": 79,
   "metadata": {},
   "outputs": [],
   "source": [
    "boston = pd.read_csv(\"Data/boston.csv\")"
   ]
  },
  {
   "cell_type": "code",
   "execution_count": 80,
   "metadata": {},
   "outputs": [
    {
     "data": {
      "text/html": [
       "<div>\n",
       "<style>\n",
       "    .dataframe thead tr:only-child th {\n",
       "        text-align: right;\n",
       "    }\n",
       "\n",
       "    .dataframe thead th {\n",
       "        text-align: left;\n",
       "    }\n",
       "\n",
       "    .dataframe tbody tr th {\n",
       "        vertical-align: top;\n",
       "    }\n",
       "</style>\n",
       "<table border=\"1\" class=\"dataframe\">\n",
       "  <thead>\n",
       "    <tr style=\"text-align: right;\">\n",
       "      <th></th>\n",
       "      <th>zn</th>\n",
       "      <th>indus</th>\n",
       "      <th>chas</th>\n",
       "      <th>nox</th>\n",
       "      <th>rm</th>\n",
       "      <th>age</th>\n",
       "      <th>dis</th>\n",
       "      <th>rad</th>\n",
       "      <th>tax</th>\n",
       "      <th>ptratio</th>\n",
       "      <th>black</th>\n",
       "      <th>lstat</th>\n",
       "      <th>medv</th>\n",
       "    </tr>\n",
       "  </thead>\n",
       "  <tbody>\n",
       "    <tr>\n",
       "      <th>0</th>\n",
       "      <td>18.0</td>\n",
       "      <td>2.31</td>\n",
       "      <td>0</td>\n",
       "      <td>0.538</td>\n",
       "      <td>6.575</td>\n",
       "      <td>65.2</td>\n",
       "      <td>4.0900</td>\n",
       "      <td>1</td>\n",
       "      <td>296</td>\n",
       "      <td>15.3</td>\n",
       "      <td>396.90</td>\n",
       "      <td>4.98</td>\n",
       "      <td>24.0</td>\n",
       "    </tr>\n",
       "    <tr>\n",
       "      <th>1</th>\n",
       "      <td>0.0</td>\n",
       "      <td>7.07</td>\n",
       "      <td>0</td>\n",
       "      <td>0.469</td>\n",
       "      <td>6.421</td>\n",
       "      <td>78.9</td>\n",
       "      <td>4.9671</td>\n",
       "      <td>2</td>\n",
       "      <td>242</td>\n",
       "      <td>17.8</td>\n",
       "      <td>396.90</td>\n",
       "      <td>9.14</td>\n",
       "      <td>21.6</td>\n",
       "    </tr>\n",
       "    <tr>\n",
       "      <th>2</th>\n",
       "      <td>0.0</td>\n",
       "      <td>7.07</td>\n",
       "      <td>0</td>\n",
       "      <td>0.469</td>\n",
       "      <td>7.185</td>\n",
       "      <td>61.1</td>\n",
       "      <td>4.9671</td>\n",
       "      <td>2</td>\n",
       "      <td>242</td>\n",
       "      <td>17.8</td>\n",
       "      <td>392.83</td>\n",
       "      <td>4.03</td>\n",
       "      <td>34.7</td>\n",
       "    </tr>\n",
       "    <tr>\n",
       "      <th>3</th>\n",
       "      <td>0.0</td>\n",
       "      <td>2.18</td>\n",
       "      <td>0</td>\n",
       "      <td>0.458</td>\n",
       "      <td>6.998</td>\n",
       "      <td>45.8</td>\n",
       "      <td>6.0622</td>\n",
       "      <td>3</td>\n",
       "      <td>222</td>\n",
       "      <td>18.7</td>\n",
       "      <td>394.63</td>\n",
       "      <td>2.94</td>\n",
       "      <td>33.4</td>\n",
       "    </tr>\n",
       "    <tr>\n",
       "      <th>4</th>\n",
       "      <td>0.0</td>\n",
       "      <td>2.18</td>\n",
       "      <td>0</td>\n",
       "      <td>0.458</td>\n",
       "      <td>7.147</td>\n",
       "      <td>54.2</td>\n",
       "      <td>6.0622</td>\n",
       "      <td>3</td>\n",
       "      <td>222</td>\n",
       "      <td>18.7</td>\n",
       "      <td>396.90</td>\n",
       "      <td>5.33</td>\n",
       "      <td>36.2</td>\n",
       "    </tr>\n",
       "  </tbody>\n",
       "</table>\n",
       "</div>"
      ],
      "text/plain": [
       "     zn  indus  chas    nox     rm   age     dis  rad  tax  ptratio   black  \\\n",
       "0  18.0   2.31     0  0.538  6.575  65.2  4.0900    1  296     15.3  396.90   \n",
       "1   0.0   7.07     0  0.469  6.421  78.9  4.9671    2  242     17.8  396.90   \n",
       "2   0.0   7.07     0  0.469  7.185  61.1  4.9671    2  242     17.8  392.83   \n",
       "3   0.0   2.18     0  0.458  6.998  45.8  6.0622    3  222     18.7  394.63   \n",
       "4   0.0   2.18     0  0.458  7.147  54.2  6.0622    3  222     18.7  396.90   \n",
       "\n",
       "   lstat  medv  \n",
       "0   4.98  24.0  \n",
       "1   9.14  21.6  \n",
       "2   4.03  34.7  \n",
       "3   2.94  33.4  \n",
       "4   5.33  36.2  "
      ]
     },
     "execution_count": 80,
     "metadata": {},
     "output_type": "execute_result"
    }
   ],
   "source": [
    "X = boston.drop('crim', axis = 1)\n",
    "y = boston.crim\n",
    "X.head()"
   ]
  },
  {
   "cell_type": "code",
   "execution_count": 81,
   "metadata": {},
   "outputs": [
    {
     "name": "stdout",
     "output_type": "stream",
     "text": [
      "For testing set 0.25 :\n",
      "  Linear Model Using Least Squares\n",
      "    test error: 17.8654448174\n",
      "    training error: 2317893.33313\n",
      "  Ridge Regression\n",
      "    test error: 15.4042024236\n",
      "    training error: 49.9101201049\n",
      "  Lasso Regression\n",
      "    test error: 16.9410444347\n",
      "    training error: 49.0789378644\n",
      "    number of non-zero coeff: 10\n",
      "For testing set 0.5 :\n",
      "  Linear Model Using Least Squares\n",
      "    test error: 34.7900074178\n",
      "    training error: 2379823.8667\n",
      "  Ridge Regression\n",
      "    test error: 32.2722697025\n",
      "    training error: 51.9704172352\n",
      "  Lasso Regression\n",
      "    test error: 33.4663096644\n",
      "    training error: 50.4983687419\n",
      "    number of non-zero coeff: 11\n",
      "For testing set 0.8 :\n",
      "  Linear Model Using Least Squares\n",
      "    test error: 54.5822419792\n",
      "    training error: 2415583.71911\n",
      "  Ridge Regression\n",
      "    test error: 56.6759394005\n",
      "    training error: 7.41810117314\n",
      "  Lasso Regression\n",
      "    test error: 54.9725419257\n",
      "    training error: 5.83803243654\n",
      "    number of non-zero coeff: 11\n"
     ]
    }
   ],
   "source": [
    "lambdas = [0.001, 0.01, 0.1, 1, 10, 100, 1000]\n",
    "test_sizes = [.25, 0.5, 0.8]\n",
    "\n",
    "for test_s in test_sizes:\n",
    "    print \"For testing set\", test_s, \":\"\n",
    "    x_train, x_test, y_train, y_test = train_test_split(X, y, test_size = test_s, random_state=10)\n",
    "\n",
    "    #Linear\n",
    "    print \"  Linear Model Using Least Squares\"\n",
    "    olslinear = LinearRegression()\n",
    "    olslinear.fit(x_train, y_train)\n",
    "    y_pred = olslinear.predict(x_test)\n",
    "    MSE = mean_squared_error(y_test, y_pred)\n",
    "    TMSE = mean_squared_error(y_train, linear.predict(x_train))\n",
    "    print \"    test error:\", MSE\n",
    "    print \"    training error:\", TMSE\n",
    "\n",
    "    #Ridge\n",
    "    print \"  Ridge Regression\"\n",
    "    ridgecv = RidgeCV(alphas = lambdas, cv = 10)\n",
    "    ridgecv.fit(x_train, y_train)\n",
    "    y_pred = ridgecv.predict(x_test)\n",
    "    MSE = mean_squared_error(y_test, y_pred)\n",
    "    TMSE = mean_squared_error(y_train, ridgecv.predict(x_train))\n",
    "    print \"    test error:\", MSE\n",
    "    print \"    training error:\", TMSE\n",
    "\n",
    "    #Lasso\n",
    "    print \"  Lasso Regression\"\n",
    "    lassocv = LassoCV(alphas = lambdas, cv = 10)\n",
    "    lassocv.fit(x_train, y_train)\n",
    "    y_pred = lassocv.predict(x_test)\n",
    "    MSE = mean_squared_error(y_test, y_pred)\n",
    "    TMSE = mean_squared_error(y_train, lassocv.predict(x_train))\n",
    "\n",
    "    nzc = np.count_nonzero(lassocv.coef_)\n",
    "\n",
    "    print \"    test error:\", MSE\n",
    "    print \"    training error:\", TMSE\n",
    "    \n",
    "    print \"    number of non-zero coeff:\", nzc"
   ]
  },
  {
   "cell_type": "code",
   "execution_count": 85,
   "metadata": {
    "scrolled": false
   },
   "outputs": [
    {
     "name": "stdout",
     "output_type": "stream",
     "text": [
      "[ 48.17  61.05  70.29  77.24  83.16  88.29  91.45  93.69  95.5   97.05\n",
      "  98.46  99.56 100.  ]\n",
      "Number of Components:  1 MSE Score:  15.1713931848\n",
      "Number of Components:  2 MSE Score:  13.8289121506\n",
      "Number of Components:  3 MSE Score:  12.1411393001\n",
      "Number of Components:  4 MSE Score:  10.3888233441\n",
      "Number of Components:  5 MSE Score:  10.4679959357\n",
      "Number of Components:  6 MSE Score:  10.6858879435\n",
      "Number of Components:  7 MSE Score:  10.7322097566\n",
      "Number of Components:  8 MSE Score:  10.6913480491\n",
      "Number of Components:  9 MSE Score:  8.6617989299\n",
      "Number of Components:  10 MSE Score:  8.84417048782\n",
      "Number of Components:  11 MSE Score:  8.77319443086\n",
      "Number of Components:  12 MSE Score:  8.75743191166\n",
      "PCA MSE: 130.183550182\n"
     ]
    },
    {
     "data": {
      "image/png": "[encoded data removed]",
      "text/plain": [
       "<matplotlib.figure.Figure at 0xfba26a0>"
      ]
     },
     "metadata": {},
     "output_type": "display_data"
    }
   ],
   "source": [
    "pca = PCA()\n",
    "pc_train_x = pca.fit_transform(scale(x_train))\n",
    "pc_test_x = pca.fit_transform(scale(x_test))\n",
    "\n",
    "fig, (ax1, ax2, ax3) = plt.subplots(1,3, figsize=(16,6))\n",
    "\n",
    "#Plot Expalained Variance to determine best components\n",
    "ax1.set_title(\"Variance vs # Components\")\n",
    "xVals = [n for n in range(1,len(x_train.columns)+1)]\n",
    "explainedVar = np.cumsum(np.round(pca.explained_variance_ratio_, decimals=4)*100)\n",
    "print explainedVar\n",
    "ax1.scatter(xVals,explainedVar)\n",
    "\n",
    "mse = []\n",
    "plinear = LinearRegression()\n",
    "\n",
    "#Find number of components using cross validation mse scores\n",
    "#Zero Components\n",
    "mse.append(np.mean(-cross_val_score(plinear, np.ones((len(pc_train_x), 1)),\n",
    "                                        y_train, cv=10, scoring='neg_mean_squared_error')))\n",
    "\n",
    "#One to Ten Components\n",
    "for i in range(1, len(x_train.columns)):\n",
    "    mse.append(np.mean(-cross_val_score(plinear, pc_train_x[:, :i], y_train, cv=10,\n",
    "                                    scoring='neg_mean_squared_error')))\n",
    "    print \"Number of Components: \", i, \"MSE Score: \", mse[i]\n",
    "\n",
    "#Plot MSE to determine best components\n",
    "ax2.plot(mse)\n",
    "ax2.set_title(\"MSE vs # Components\")\n",
    "\n",
    "#Plot disregarding intercept\n",
    "ax3.plot([n for n in range(1,len(x_train.columns))],mse[1:],'-v')\n",
    "\n",
    "plinear.fit(pc_train_x, y_train)\n",
    "pcamse = mean_squared_error(y_test, plinear.predict(pc_test_x))\n",
    "\n",
    "print \"PCA MSE: \" + str(pcamse)\n",
    "pcrmse = mean_squared_error(y_test, plinear.predict(pc_test_x[:,0:len(x_train.columns)]))"
   ]
  },
  {
   "cell_type": "code",
   "execution_count": 87,
   "metadata": {},
   "outputs": [
    {
     "name": "stdout",
     "output_type": "stream",
     "text": [
      "The minimum MSE obtained is with 17 components with an MSE of: 8.6617989299\n",
      "The MSE obtained with 10 components is: 8.6617989299 which explains about: 97.05 percent of variance\n",
      "PCR Regression MSE on Test set: 130.183550182\n"
     ]
    }
   ],
   "source": [
    "print \"The minimum MSE obtained is with 17 components with an MSE of: \" + str(min(mse))\n",
    "print \"The MSE obtained with 10 components is: \"+str(mse[9])+\" which explains about: \"+str(explainedVar[9])+\" percent of variance\"\n",
    "\n",
    "print \"PCR Regression MSE on Test set: \" + str(pcrmse)"
   ]
  },
  {
   "cell_type": "code",
   "execution_count": 86,
   "metadata": {},
   "outputs": [
    {
     "name": "stdout",
     "output_type": "stream",
     "text": [
      "\n",
      "R^2 Scores\n",
      "OLS R^2 Score: 0.365194223297\n",
      "Ridge R^2 Score: 0.340843973665\n",
      "Lasso R^2 Score: 0.360654932647\n",
      "PCR R^2 Score: -0.514068801327\n"
     ]
    }
   ],
   "source": [
    "print \"\\nR^2 Scores\"\n",
    "print \"OLS R^2 Score: \" + str(olslinear.score(x_test,y_test))\n",
    "print \"Ridge R^2 Score: \" + str(ridgecv.score(x_test,y_test))\n",
    "print \"Lasso R^2 Score: \" + str(lassocv.score(x_test,y_test))\n",
    "print \"PCR R^2 Score: \" + str(plinear.score(pc_test_x[:, 0:len(x_train.columns)],y_test))"
   ]
  },
  {
   "cell_type": "markdown",
   "metadata": {},
   "source": [
    "## Analysis:\n",
    "\n",
    "We tried out linear, ridge regression, lasso regression, and PCR to evaluate the Boston data set. \n",
    "\n",
    "For the linear, ridge regression, and lasso regression, we performed cross validation with training sets of 25%, 50%, and 80% of the original dataset with 10-fold testing. At each training set, we evaluated the test and training error. Lasso and ridge regression outperformed linear regression on both training and testing error, and both had pretty close training and testing error compartively. However, at 80%, lasso clearly yielded better error than ridge.\n",
    "\n",
    "Using cross-validation of the training set with a PCR model, we recognize that 17 components produces the lowest of MSE of 8.6617989299. We recognize that 10 components, achieves 97% of variance and also helps us get the lowest MSE, so about 1/2 of the features can explain the variance of the data set, rendering PSR to not be the most useful model.\n",
    "\n",
    "When comparing the R^2 scores, it is clear that lasso regression, with the highest score of 0.36 is the best regression model we have tested. The lasso model does not use all the features, but comes close to it: at 80% training set in cross validation, 11 coefficients are non-zero.\n"
   ]
  },
  {
   "cell_type": "markdown",
   "metadata": {
    "collapsed": true
   },
   "source": [
    "# Problem 4"
   ]
  },
  {
   "cell_type": "markdown",
   "metadata": {},
   "source": [
    "**Ordinary Least Squares:**\n",
    "\n",
    "$$min_\\beta: ||X\\beta -y||_2^2 = \\sum(X_i\\beta-y_i)^2$$\n",
    "1. Vector Notation. Derive and Set to Zero.\n",
    "$$2X^T(X\\beta-y) = 0 $$ \n",
    "\n",
    "\n",
    "2. $$2X^TX\\beta-2X^Ty =0$$\n",
    "$$~$$\n",
    "$$2X^TX\\beta - 2X^Ty = 0 $$\n",
    "$$~$$\n",
    "$$ X^T X \\beta = X^T y $$\n",
    "$$~$$\n",
    "$$ \\hat{\\beta} = (X^TX)^-1X^Ty$$\n",
    "\n",
    "\n",
    "**Ridge Regression:**\n",
    "$$min_\\beta: ||X\\beta -y||_2^2 + \\lambda ||\\beta||^2_2= \\sum(X_i\\beta-y_i)^2 + \\lambda \\sum \\beta_i^2$$\n",
    "\n",
    "1. Make Vector Notation, Derive and set to zero\n",
    "\n",
    "$$2X^T(X\\beta-y) + 2\\lambda \\beta = 0 $$ \n",
    "\n",
    " \n",
    "2. $$2X^TX\\beta-2X^Ty + 2\\lambda\\beta =0$$\n",
    "$$~$$\n",
    "$$ X^T X \\beta + \\lambda\\beta = X^T y $$\n",
    "$$~$$\n",
    "$$(X^TX + \\lambda I)\\beta = X^Ty$$\n",
    "$$~$$\n",
    "$$\\hat{\\beta} = (X^TX + \\lambda I)^{-1}X^Ty$$"
   ]
  },
  {
   "cell_type": "code",
   "execution_count": null,
   "metadata": {
    "collapsed": true
   },
   "outputs": [],
   "source": []
  }
 ],
 "metadata": {
  "kernelspec": {
   "display_name": "Python 2",
   "language": "python",
   "name": "python2"
  },
  "language_info": {
   "codemirror_mode": {
    "name": "ipython",
    "version": 2
   },
   "file_extension": ".py",
   "mimetype": "text/x-python",
   "name": "python",
   "nbconvert_exporter": "python",
   "pygments_lexer": "ipython2",
   "version": "2.7.13"
  }
 },
 "nbformat": 4,
 "nbformat_minor": 1
}
