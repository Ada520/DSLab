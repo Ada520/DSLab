{
 "cells": [
  {
   "cell_type": "markdown",
   "metadata": {},
   "source": [
    "# <p style=\"text-align: center;\">EE 379K: Data Science Lab</p>\n",
    "# <p style=\"text-align: center;\">Lab 6 - 10/16/17</p>\n",
    "## <p style=\"text-align: center;\">Rachel Chen and Kevin Yee</p>\n",
    "### <p style=\"text-align: center;\"> rjc2737 and kjy252</p>"
   ]
  },
  {
   "cell_type": "markdown",
   "metadata": {},
   "source": [
    "#Problem 1 \n",
    "In this problem we will use synthetic data sets to explore the bias-variance tradeoffincurred by using regularization.\n",
    "\n",
    "* Generate data of the form: \n",
    "$$ y = X\\beta + \\epsilon $$ \n",
    "\n",
    "where X is an n x p matrix where n = 51, p = 50, and each $X_{ij} \\sim N(0,1)$. Also, generate the noise according to $\\epsilon_i \\sim N(0,1/4)$. Let $\\beta$ be the all ones vector for simplicity.\n",
    "\n",
    "By repeatedly doing the experiment and generating fresh data (fresh X, and y, and hence $\\epsilon$ but keeping $\\beta$ fixed, you will estimate many diffferent solutions, $\\hat{\\beta}$. Estimate the mean and variance of $\\hat{\\beta}$. Note that $\\hat{\\beta}$ is a vector, so for this exercise simply estimate the variance of a single component.\n",
    "\n",
    "\n",
    "* Use ridge regression i.e. $l_2$ regularization. Vary the regularization coefficient $\\lambda = 0.01, 0.1, 1, 10, 100$ and repeat the above experiment. What do you observe? As you increase $\\lambda$ is the model becoming more simple or more complex? As you increase $\\lambda$ is performance becoming better or worse? "
   ]
  },
  {
   "cell_type": "markdown",
   "metadata": {},
   "source": [
    "# Answer"
   ]
  },
  {
   "cell_type": "code",
   "execution_count": 2,
   "metadata": {
    "collapsed": true
   },
   "outputs": [],
   "source": [
    "import numpy as np\n",
    "import pandas as pd\n",
    "import matplotlib\n",
    "import matplotlib.pyplot as plt\n",
    "from sklearn.linear_model import LinearRegression, Ridge\n",
    "from sklearn.model_selection import cross_val_score\n",
    "%matplotlib inline\n",
    "\n",
    "import warnings\n",
    "warnings.filterwarnings('ignore')"
   ]
  },
  {
   "cell_type": "code",
   "execution_count": 3,
   "metadata": {
    "collapsed": false
   },
   "outputs": [
    {
     "name": "stdout",
     "output_type": "stream",
     "text": [
      "Ordinary Least Squares:\n",
      " Mean of beta hat using OLS: 1.0\n",
      " Variance of beta hat using OLS: 1.92053666867e-26\n",
      "\n",
      "Ridge Regression:\n",
      "\n",
      "lambda = 0.01\n",
      " Mean of beta hat using Ridge: 0.943064075103\n",
      " Variance of beta hat using Ridge: 0.0366113509967\n",
      "\n",
      "lambda = 0.1\n",
      " Mean of beta hat using Ridge: 0.889889203338\n",
      " Variance of beta hat using Ridge: 0.0659038736155\n",
      "\n",
      "lambda = 1\n",
      " Mean of beta hat using Ridge: 0.793002172341\n",
      " Variance of beta hat using Ridge: 0.11204086511\n",
      "\n",
      "lambda = 10\n",
      " Mean of beta hat using Ridge: 0.608730650802\n",
      " Variance of beta hat using Ridge: 0.117441818004\n",
      "\n",
      "lambda = 100\n",
      " Mean of beta hat using Ridge: 0.261882902213\n",
      " Variance of beta hat using Ridge: 0.0447470897779\n"
     ]
    }
   ],
   "source": [
    "#generate data\n",
    "X = np.random.normal(0,1, size = (51,50))\n",
    "e = np.random.normal(0,.25)\n",
    "beta = np.ones((51,50))\n",
    "\n",
    "#Create OLS unbiased model to estiamte beta hat \n",
    "linear = LinearRegression()\n",
    "\n",
    "#Compute y\n",
    "y = X.dot(beta.T) + e\n",
    "\n",
    "#Compute coefficient with Linear regression model: \n",
    "linear.fit(X,y)\n",
    "\n",
    "mean = []\n",
    "var = []\n",
    "for i in range(1,1000):\n",
    "    X = np.random.normal(0,1, size = (51,50))\n",
    "    e = np.random.normal(0,.25)\n",
    "    y = X.dot(beta.T) + e\n",
    "    linear.fit(X,y)\n",
    "    mean.append(np.mean(linear.coef_))\n",
    "    var.append(np.var(linear.coef_))\n",
    "    \n",
    "print \"Ordinary Least Squares:\"\n",
    "print \" Mean of beta hat using OLS: \" + str(np.mean(mean))\n",
    "print \" Variance of beta hat using OLS: \" + str(np.mean(var))\n",
    "\n",
    "alphas = [0.01, 0.1, 1, 10, 100]\n",
    "print \"\\nRidge Regression:\"\n",
    "for alpha in alphas:\n",
    "    ridge = Ridge(alpha = alpha).fit(X,y)\n",
    "    print\n",
    "    print \"lambda = \" + str(alpha)\n",
    "    print \" Mean of beta hat using Ridge: \" + str(np.mean(ridge.coef_))\n",
    "    print \" Variance of beta hat using Ridge: \"+ str(np.var(ridge.coef_))"
   ]
  },
  {
   "cell_type": "code",
   "execution_count": 4,
   "metadata": {
    "collapsed": false
   },
   "outputs": [
    {
     "data": {
      "text/plain": [
       "<matplotlib.text.Text at 0xc56a470>"
      ]
     },
     "execution_count": 4,
     "metadata": {},
     "output_type": "execute_result"
    },
    {
     "data": {
      "image/png": "[encoded data removed]",
      "text/plain": [
       "<matplotlib.figure.Figure at 0xc280438>"
      ]
     },
     "metadata": {},
     "output_type": "display_data"
    }
   ],
   "source": [
    "def rmse_cv(model):\n",
    "    rmse= np.sqrt(-cross_val_score(model, X, y, scoring=\"neg_mean_squared_error\", cv = 5))\n",
    "    return(rmse)\n",
    "\n",
    "\n",
    "alphas = [0.01, 0.1, 1, 10, 100]\n",
    "cv_ridge = [rmse_cv(Ridge(alpha = alpha)).mean() \n",
    "            for alpha in alphas]\n",
    "\n",
    "coefs = [Ridge(alpha = alpha).fit(X,y).coef_.mean() for alpha in alphas]\n",
    "\n",
    "plt.figure(figsize=(16,6))\n",
    "plt.subplot(121)\n",
    "cv_ridge = pd.Series(cv_ridge, index = alphas)\n",
    "cv_ridge.plot(title = \"Validation\")\n",
    "plt.xlabel(\"alpha\")\n",
    "plt.ylabel(\"rmse\")\n",
    "\n",
    "plt.subplot(122)\n",
    "plt.plot(alphas,coefs)\n",
    "plt.xlabel('alpha')\n",
    "plt.ylabel('weights')\n",
    "plt.title('Ridge coefficients as a function of the regularization')\n"
   ]
  },
  {
   "cell_type": "markdown",
   "metadata": {},
   "source": [
    "### Comparing alpha and rmse\n",
    "\n",
    "From the figure comparing alpha and rmse, the model is getting increasingly worse as alpha is increasing\n",
    "\n",
    "From the figure comparing alpha and weights, the model is getting increasingly simpler as the weights of $\\hat{\\beta}$ decreases\n"
   ]
  },
  {
   "cell_type": "markdown",
   "metadata": {},
   "source": [
    "# Problem 2 \n",
    "Problem 9 from Chapter 6.\n",
    "(Predicting  the  number  of  applications  in  College)  Note  that  you  will  have  to  read  about  PCR(Principal Components Regression) and PLS (Partial Least Squares ) in the book, since we did not discuss these in class.\n",
    "\n",
    "![](http://i.markdownnotes.com/image_7m46Jzg.png)"
   ]
  },
  {
   "cell_type": "markdown",
   "metadata": {},
   "source": [
    "# Answer"
   ]
  },
  {
   "cell_type": "code",
   "execution_count": 3,
   "metadata": {
    "collapsed": false
   },
   "outputs": [
    {
     "name": "stderr",
     "output_type": "stream",
     "text": [
      "C:\\Users\\Kevin\\Anaconda\\lib\\site-packages\\sklearn\\cross_validation.py:41: DeprecationWarning: This module was deprecated in version 0.18 in favor of the model_selection module into which all the refactored classes and functions are moved. Also note that the interface of the new CV iterators are different from that of this module. This module will be removed in 0.20.\n",
      "  \"This module will be removed in 0.20.\", DeprecationWarning)\n"
     ]
    }
   ],
   "source": [
    "import numpy as np\n",
    "import pandas as pd\n",
    "import matplotlib\n",
    "import matplotlib.pyplot as plt\n",
    "from sklearn.preprocessing import scale \n",
    "from sklearn.linear_model import LinearRegression, Ridge, Lasso, RidgeCV, LassoCV\n",
    "from sklearn.model_selection import cross_val_score\n",
    "from sklearn.cross_decomposition import PLSRegression, PLSSVD\n",
    "from sklearn.cross_validation import train_test_split, LeaveOneOut, KFold, cross_val_score\n",
    "from sklearn.metrics import confusion_matrix, mean_squared_error\n",
    "from sklearn.decomposition import PCA\n",
    "from sklearn.model_selection import GridSearchCV\n",
    "from sklearn import cross_validation\n",
    "%matplotlib inline\n",
    "import warnings\n",
    "warnings.filterwarnings('ignore')"
   ]
  },
  {
   "cell_type": "markdown",
   "metadata": {},
   "source": [
    "### MSE on test set using OLS, Ridge, Lasso"
   ]
  },
  {
   "cell_type": "code",
   "execution_count": 4,
   "metadata": {
    "collapsed": false
   },
   "outputs": [
    {
     "name": "stdout",
     "output_type": "stream",
     "text": [
      "OLS Linear Regression MSE: 788016.339525\n",
      "Ridge Regression MSE: 788849.335783\n",
      "Lasso Regression MSE: 789339.4189\n",
      "Lasso, Non Zero Coefficients 17\n"
     ]
    }
   ],
   "source": [
    "college = pd.read_csv(\"Data/College.csv\")\n",
    "\n",
    "#split data up\n",
    "y = college.Apps\n",
    "X = college.drop('Apps',axis = 1)\n",
    "X['Private'] = X['Private'].replace('Yes',1).replace('No',0)\n",
    "X = X.loc[:, \"Private\":]\n",
    "X.head()\n",
    "\n",
    "#split data\n",
    "X_train, X_test, y_train, y_test = train_test_split(X,y,test_size = 0.25, random_state=20)\n",
    "\n",
    "\n",
    "#iniatlize models \n",
    "alphas = [0.05, 0.1, 0.3, 1, 3, 5, 10, 15, 30, 50, 75]\n",
    "ols = LinearRegression()\n",
    "ridgeCV = RidgeCV(alphas=alphas, cv=10)\n",
    "lassoCV = LassoCV(alphas=alphas, cv=10, max_iter=10000)\n",
    "\n",
    "# Least Squares\n",
    "ols.fit(X_train, y_train)\n",
    "olsmse = mean_squared_error(y_test, ols.predict(X_test))\n",
    "\n",
    "print \"OLS Linear Regression MSE: \" + str(olsmse)\n",
    "\n",
    "# RidgeCV \n",
    "ridgeCV.fit(X_train, y_train)\n",
    "ridgemse = mean_squared_error(y_test, ridgeCV.predict(X_test))\n",
    "                  \n",
    "print \"Ridge Regression MSE: \" + str(ridgemse)\n",
    "# LassoCV\n",
    "lassoCV.fit(X_train, y_train)\n",
    "lassomse = mean_squared_error(y_test, lassoCV.predict(X_test))\n",
    "                  \n",
    "print \"Lasso Regression MSE: \" + str(lassomse)\n",
    "print \"Lasso, Non Zero Coefficients\", len(lassoCV.coef_.nonzero()[0])"
   ]
  },
  {
   "cell_type": "markdown",
   "metadata": {},
   "source": [
    "Lasso has 17 non zero  coefficients"
   ]
  },
  {
   "cell_type": "markdown",
   "metadata": {},
   "source": [
    "### Using PCR to determine best number of components"
   ]
  },
  {
   "cell_type": "code",
   "execution_count": 5,
   "metadata": {
    "collapsed": false,
    "scrolled": false
   },
   "outputs": [
    {
     "name": "stdout",
     "output_type": "stream",
     "text": [
      "[  31.54   57.04   64.04   69.86   75.44   80.48   84.15   87.57   90.6\n",
      "   93.03   95.05   96.85   97.95   98.74   99.37   99.84  100.01]\n"
     ]
    },
    {
     "data": {
      "image/png": "[encoded data removed]",
      "text/plain": [
       "<matplotlib.figure.Figure at 0xbc3a080>"
      ]
     },
     "metadata": {},
     "output_type": "display_data"
    }
   ],
   "source": [
    "# https://stats.stackexchange.com/questions/82050/principal-component-analysis-and-regression-in-python\n",
    "#PCR\n",
    "pca = PCA()\n",
    "pc_train_x = pca.fit_transform(scale(X_train))\n",
    "pc_test_x = pca.fit_transform(scale(X_test))\n",
    "\n",
    "\n",
    "fig, (ax1, ax2, ax3) = plt.subplots(1,3, figsize=(16,6))\n",
    "\n",
    "#Plot Expalained Variance to determine best components\n",
    "pc_train_x = pca.fit_transform(scale(X_train))\n",
    "ax1.set_title(\"Variance vs # Components\")\n",
    "xVals = [n for n in range(1,len(X_train.columns)+1)]\n",
    "explainedVar = np.cumsum(np.round(pca.explained_variance_ratio_, decimals=4)*100)\n",
    "print explainedVar\n",
    "ax1.scatter(xVals,explainedVar)\n",
    "\n",
    "\n",
    "\n",
    "mse = []\n",
    "linearpcr = LinearRegression()\n",
    "\n",
    "\n",
    "#Find number of components using cross validation mse scores\n",
    "#Zero Components\n",
    "mse.append(np.mean(-1 * cross_val_score(linearpcr, np.ones((len(pc_train_x), 1)),\n",
    "                                        y_train, cv=20, scoring='neg_mean_squared_error')))\n",
    "\n",
    "#One to Ten Components\n",
    "for i in range(1, len(X_train.columns)):\n",
    "    mse.append(np.mean(-cross_val_score(linearpcr, pc_train_x[:, :i], y_train, cv=10,\n",
    "                                    scoring='neg_mean_squared_error')))\n",
    "    \n",
    "#Plot MSE to determine best components\n",
    "ax2.plot(mse)\n",
    "ax2.set_title(\"MSE vs # Components using Cross Validation\")\n",
    "\n",
    "#Plot disregarding intercept\n",
    "ax3.plot([n for n in range(1,len(X_train.columns))], mse[1:],'-v')\n",
    "\n",
    "pcamse = []\n",
    "for i in range(1,len(X_train.columns)):\n",
    "    linearpcr.fit(pc_train_x[:, :i], y_train)\n",
    "    pcamse.append(mean_squared_error(y_test, linearpcr.predict(pc_test_x[:,:i])))\n",
    "    \n",
    "ax3.plot(pcamse)\n",
    "ax3.set_title(\"MSE vs # Components fitting on Test Set\")\n",
    "\n",
    "linearpcr.fit(pc_train_x[:, 0:9], y_train)\n",
    "pcrmse = mean_squared_error(y_test, linearpcr.predict(pc_test_x[:,0:9]))"
   ]
  },
  {
   "cell_type": "code",
   "execution_count": 6,
   "metadata": {
    "collapsed": false
   },
   "outputs": [
    {
     "name": "stdout",
     "output_type": "stream",
     "text": [
      "The minimum MSE obtained is with 17 components with an MSE of: 1527014.99208\n",
      "The MSE obtained with 10 components is: 2663349.37745 which explains about: 93.03 percent of variance\n",
      "PCR Regression MSE on Test set: 7108876.60507\n"
     ]
    }
   ],
   "source": [
    "print \"The minimum MSE obtained is with 17 components with an MSE of: \" + str(min(mse))\n",
    "print \"The MSE obtained with 10 components is: \"+str(mse[9])+\" which explains about: \"+str(explainedVar[9])+\" percent of variance\"\n",
    "\n",
    "print \"PCR Regression MSE on Test set: \" + str(pcrmse)"
   ]
  },
  {
   "cell_type": "markdown",
   "metadata": {},
   "source": [
    "### Observation on PCR\n",
    "Using cross-validation of the training set with a PCR model, we recognize that 17 components produces the lowest of MSE of ~1500000. \n",
    "\n",
    "However, this makes the purpose of PCR pointless. We recognize that 10 components, achieves 93% of variance (about 1/2 of the features can explain the variance of the data set).\n",
    "Using M = 10, we get a MSE of ~2660000.\n",
    "\n",
    "When running the model on the test set, we saw that 3 components performed the best (orange line in figure 3).\n",
    "\n",
    "Overall we will observe M = 10 with MSE of ~2660000 as the chosen cross-val hyperparameter"
   ]
  },
  {
   "cell_type": "markdown",
   "metadata": {},
   "source": [
    "### MSE using PLS"
   ]
  },
  {
   "cell_type": "code",
   "execution_count": 7,
   "metadata": {
    "collapsed": false
   },
   "outputs": [
    {
     "name": "stdout",
     "output_type": "stream",
     "text": [
      "\n",
      "The lowest MSE obtained is: 1454598.72511 with 13 components\n"
     ]
    },
    {
     "data": {
      "image/png": "[encoded data removed]",
      "text/plain": [
       "<matplotlib.figure.Figure at 0xcb12b00>"
      ]
     },
     "metadata": {},
     "output_type": "display_data"
    }
   ],
   "source": [
    "# Using PLS \n",
    "# http://www.mathstat.dal.ca/~aarms2014/StatLearn/assignments/A3sol_2.pdf\n",
    "# https://rpubs.com/ppaquay/65562\n",
    "mse = []\n",
    "mse.append(0);\n",
    "for i in range(1, len(X_train.columns)):    \n",
    "    plsReg = PLSRegression(n_components=i)\n",
    "    mse.append(np.mean(-cross_val_score(plsReg, scale(X_train), y_train, cv=10,\n",
    "                                    scoring='neg_mean_squared_error')))\n",
    "\n",
    "    #print \"Number of Components: \", i, \"MSE Score: \", mse[i]\n",
    "\n",
    "\n",
    "plt.plot(mse[1:])\n",
    "plt.title(\"MSE of Training Set using Cross Validation\")\n",
    "\n",
    "print \"\\nThe lowest MSE obtained is:\",str(min(mse[1:])), \"with\",str(mse.index(min(mse[1:]))), \"components\""
   ]
  },
  {
   "cell_type": "code",
   "execution_count": 8,
   "metadata": {
    "collapsed": false
   },
   "outputs": [
    {
     "name": "stdout",
     "output_type": "stream",
     "text": [
      "PLS Regression MSE on Test set: 1991779.47678\n"
     ]
    }
   ],
   "source": [
    "plsReg = PLSRegression(n_components = 10)\n",
    "plsReg.fit(scale(X_train),y_train)\n",
    "plsmse = mean_squared_error(y_test,plsReg.predict(scale(X_test)))\n",
    "print \"PLS Regression MSE on Test set: \" + str(plsmse)"
   ]
  },
  {
   "cell_type": "markdown",
   "metadata": {},
   "source": [
    "Using, PLS, we observe that the minimum component obtained is with M = 9 components with an MSE of ~1400000."
   ]
  },
  {
   "cell_type": "code",
   "execution_count": 9,
   "metadata": {
    "collapsed": false
   },
   "outputs": [
    {
     "name": "stdout",
     "output_type": "stream",
     "text": [
      "MSE\n",
      "OLS Linear Regression MSE: 788016.339525\n",
      "Ridge Regression MSE: 788849.335783\n",
      "Lasso Regression MSE: 789339.4189\n",
      "PCR Regression MSE on Test set: 7108876.60507\n",
      "PLS Regression MSE on Test set: 1991779.47678\n",
      "\n",
      "R^2 Scores\n",
      "OLS R^2 Score:0.913122839795\n",
      "Ridge R^2 Score:0.913031003693\n",
      "Lasso R^2 Score:0.91297697305\n",
      "PCR R^2 Score:0.216261160186\n",
      "PLS R^2 Score: 0.780410461031\n"
     ]
    }
   ],
   "source": [
    "print \"MSE\"\n",
    "print \"OLS Linear Regression MSE: \" + str(olsmse)\n",
    "print \"Ridge Regression MSE: \" + str(ridgemse)\n",
    "print \"Lasso Regression MSE: \" + str(lassomse)\n",
    "print \"PCR Regression MSE on Test set: \" + str(pcrmse)\n",
    "print \"PLS Regression MSE on Test set: \" + str(plsmse)\n",
    "\n",
    "print \"\\nR^2 Scores\"\n",
    "print \"OLS R^2 Score:\" + str(ols.score(X_test,y_test))\n",
    "print \"Ridge R^2 Score:\" + str(ridgeCV.score(X_test,y_test))\n",
    "print \"Lasso R^2 Score:\" + str(lassoCV.score(X_test,y_test))\n",
    "print \"PCR R^2 Score:\" + str(linearpcr.score(pc_test_x[:, 0:9],y_test))\n",
    "print \"PLS R^2 Score: \" + str(plsReg.score(scale(X_test),y_test))"
   ]
  },
  {
   "cell_type": "markdown",
   "metadata": {},
   "source": [
    "Ordinary Least Squares, Ridge, and Lasso seem to do a decent job in predicting the test set with R^2 values of approximately 91% \n",
    "\n",
    "However, PLS has an R^2 value of 78% (slightly worse). Even though the MSE on the test set was small, the R^2 value was rather poor.\n",
    "\n",
    "PCR Regression has the worst prediction power ."
   ]
  },
  {
   "cell_type": "markdown",
   "metadata": {},
   "source": [
    "# Problem 3\n",
    "\n",
    "![](http://i.markdownnotes.com/image_9kryzAh.png)"
   ]
  },
  {
   "cell_type": "markdown",
   "metadata": {},
   "source": [
    "# Answer"
   ]
  },
  {
   "cell_type": "code",
   "execution_count": 14,
   "metadata": {
    "collapsed": true
   },
   "outputs": [],
   "source": [
    "from sklearn.linear_model import LinearRegression, RidgeCV, LassoCV\n",
    "from sklearn.decomposition import PCA\n",
    "from sklearn.model_selection import train_test_split\n",
    "from sklearn.metrics import mean_squared_error\n",
    "from sklearn.preprocessing import scale\n",
    "from sklearn.model_selection import cross_val_score\n",
    "import numpy as np\n",
    "import pandas as pd"
   ]
  },
  {
   "cell_type": "code",
   "execution_count": 15,
   "metadata": {
    "collapsed": true
   },
   "outputs": [],
   "source": [
    "boston = pd.read_csv(\"Data/boston.csv\")"
   ]
  },
  {
   "cell_type": "code",
   "execution_count": 16,
   "metadata": {
    "collapsed": false
   },
   "outputs": [
    {
     "data": {
      "text/html": [
       "<div>\n",
       "<style>\n",
       "    .dataframe thead tr:only-child th {\n",
       "        text-align: right;\n",
       "    }\n",
       "\n",
       "    .dataframe thead th {\n",
       "        text-align: left;\n",
       "    }\n",
       "\n",
       "    .dataframe tbody tr th {\n",
       "        vertical-align: top;\n",
       "    }\n",
       "</style>\n",
       "<table border=\"1\" class=\"dataframe\">\n",
       "  <thead>\n",
       "    <tr style=\"text-align: right;\">\n",
       "      <th></th>\n",
       "      <th>zn</th>\n",
       "      <th>indus</th>\n",
       "      <th>chas</th>\n",
       "      <th>nox</th>\n",
       "      <th>rm</th>\n",
       "      <th>age</th>\n",
       "      <th>dis</th>\n",
       "      <th>rad</th>\n",
       "      <th>tax</th>\n",
       "      <th>ptratio</th>\n",
       "      <th>black</th>\n",
       "      <th>lstat</th>\n",
       "      <th>medv</th>\n",
       "    </tr>\n",
       "  </thead>\n",
       "  <tbody>\n",
       "    <tr>\n",
       "      <th>0</th>\n",
       "      <td>18.0</td>\n",
       "      <td>2.31</td>\n",
       "      <td>0</td>\n",
       "      <td>0.538</td>\n",
       "      <td>6.575</td>\n",
       "      <td>65.2</td>\n",
       "      <td>4.0900</td>\n",
       "      <td>1</td>\n",
       "      <td>296</td>\n",
       "      <td>15.3</td>\n",
       "      <td>396.90</td>\n",
       "      <td>4.98</td>\n",
       "      <td>24.0</td>\n",
       "    </tr>\n",
       "    <tr>\n",
       "      <th>1</th>\n",
       "      <td>0.0</td>\n",
       "      <td>7.07</td>\n",
       "      <td>0</td>\n",
       "      <td>0.469</td>\n",
       "      <td>6.421</td>\n",
       "      <td>78.9</td>\n",
       "      <td>4.9671</td>\n",
       "      <td>2</td>\n",
       "      <td>242</td>\n",
       "      <td>17.8</td>\n",
       "      <td>396.90</td>\n",
       "      <td>9.14</td>\n",
       "      <td>21.6</td>\n",
       "    </tr>\n",
       "    <tr>\n",
       "      <th>2</th>\n",
       "      <td>0.0</td>\n",
       "      <td>7.07</td>\n",
       "      <td>0</td>\n",
       "      <td>0.469</td>\n",
       "      <td>7.185</td>\n",
       "      <td>61.1</td>\n",
       "      <td>4.9671</td>\n",
       "      <td>2</td>\n",
       "      <td>242</td>\n",
       "      <td>17.8</td>\n",
       "      <td>392.83</td>\n",
       "      <td>4.03</td>\n",
       "      <td>34.7</td>\n",
       "    </tr>\n",
       "    <tr>\n",
       "      <th>3</th>\n",
       "      <td>0.0</td>\n",
       "      <td>2.18</td>\n",
       "      <td>0</td>\n",
       "      <td>0.458</td>\n",
       "      <td>6.998</td>\n",
       "      <td>45.8</td>\n",
       "      <td>6.0622</td>\n",
       "      <td>3</td>\n",
       "      <td>222</td>\n",
       "      <td>18.7</td>\n",
       "      <td>394.63</td>\n",
       "      <td>2.94</td>\n",
       "      <td>33.4</td>\n",
       "    </tr>\n",
       "    <tr>\n",
       "      <th>4</th>\n",
       "      <td>0.0</td>\n",
       "      <td>2.18</td>\n",
       "      <td>0</td>\n",
       "      <td>0.458</td>\n",
       "      <td>7.147</td>\n",
       "      <td>54.2</td>\n",
       "      <td>6.0622</td>\n",
       "      <td>3</td>\n",
       "      <td>222</td>\n",
       "      <td>18.7</td>\n",
       "      <td>396.90</td>\n",
       "      <td>5.33</td>\n",
       "      <td>36.2</td>\n",
       "    </tr>\n",
       "  </tbody>\n",
       "</table>\n",
       "</div>"
      ],
      "text/plain": [
       "     zn  indus  chas    nox     rm   age     dis  rad  tax  ptratio   black  \\\n",
       "0  18.0   2.31     0  0.538  6.575  65.2  4.0900    1  296     15.3  396.90   \n",
       "1   0.0   7.07     0  0.469  6.421  78.9  4.9671    2  242     17.8  396.90   \n",
       "2   0.0   7.07     0  0.469  7.185  61.1  4.9671    2  242     17.8  392.83   \n",
       "3   0.0   2.18     0  0.458  6.998  45.8  6.0622    3  222     18.7  394.63   \n",
       "4   0.0   2.18     0  0.458  7.147  54.2  6.0622    3  222     18.7  396.90   \n",
       "\n",
       "   lstat  medv  \n",
       "0   4.98  24.0  \n",
       "1   9.14  21.6  \n",
       "2   4.03  34.7  \n",
       "3   2.94  33.4  \n",
       "4   5.33  36.2  "
      ]
     },
     "execution_count": 16,
     "metadata": {},
     "output_type": "execute_result"
    }
   ],
   "source": [
    "X = boston.drop('crim', axis = 1)\n",
    "y = boston.crim\n",
    "X.head()"
   ]
  },
  {
   "cell_type": "markdown",
   "metadata": {},
   "source": [
    "### MSE with Simple OLS, Ridge, Lasso"
   ]
  },
  {
   "cell_type": "code",
   "execution_count": 17,
   "metadata": {
    "collapsed": false
   },
   "outputs": [
    {
     "name": "stdout",
     "output_type": "stream",
     "text": [
      "  Linear Model Using Least Squares\n",
      "    test error: 18.7649000218\n",
      "    training error: 46.2363379409\n",
      "    cross-validation error: 50.824744187\n",
      "  Ridge Regression\n",
      "    test error: 16.424851714\n",
      "    training error: 47.5049899913\n",
      "    cross-validation error: 50.7041695945\n",
      "  Lasso Regression\n",
      "    test error: 18.0534897577\n",
      "    training error: 46.7679120818\n",
      "    cross-validation error: 50.9537634938\n"
     ]
    }
   ],
   "source": [
    "lambdas = [0.001, 0.01, 0.1, 1, 10, 100, 1000]\n",
    "\n",
    "x_train, x_test, y_train, y_test = train_test_split(X, y, test_size = 0.2, random_state=10)\n",
    "\n",
    "#Linear\n",
    "print \"  Linear Model Using Least Squares\"\n",
    "olslinear = LinearRegression()\n",
    "olslinear.fit(x_train, y_train)\n",
    "y_pred = olslinear.predict(x_test)\n",
    "MSE = mean_squared_error(y_test, y_pred)\n",
    "TMSE = mean_squared_error(y_train, olslinear.predict(x_train))\n",
    "CVS = np.mean(-cross_val_score(olslinear, x_train, y_train, cv=20, scoring='neg_mean_squared_error'))\n",
    "print \"    test error:\", MSE\n",
    "print \"    training error:\", TMSE\n",
    "print \"    cross-validation error:\", CVS\n",
    "\n",
    "#Ridge\n",
    "print \"  Ridge Regression\"\n",
    "ridgecv = RidgeCV(alphas = lambdas, cv = 10)\n",
    "ridgecv.fit(x_train, y_train)\n",
    "y_pred = ridgecv.predict(x_test)\n",
    "MSE = mean_squared_error(y_test, y_pred)\n",
    "TMSE = mean_squared_error(y_train, ridgecv.predict(x_train))\n",
    "CVS = np.mean(-cross_val_score(ridgecv, x_train, y_train, cv=20, scoring='neg_mean_squared_error'))\n",
    "print \"    test error:\", MSE\n",
    "print \"    training error:\", TMSE\n",
    "print \"    cross-validation error:\", CVS\n",
    "\n",
    "#Lasso\n",
    "print \"  Lasso Regression\"\n",
    "lassocv = LassoCV(alphas = lambdas, cv = 10)\n",
    "lassocv.fit(x_train, y_train)\n",
    "y_pred = lassocv.predict(x_test)\n",
    "MSE = mean_squared_error(y_test, y_pred)\n",
    "TMSE = mean_squared_error(y_train, lassocv.predict(x_train))\n",
    "CVS = np.mean(-cross_val_score(lassocv, x_train, y_train, cv=20, scoring='neg_mean_squared_error'))\n",
    "print \"    test error:\", MSE\n",
    "print \"    training error:\", TMSE\n",
    "print \"    cross-validation error:\", CVS"
   ]
  },
  {
   "cell_type": "markdown",
   "metadata": {},
   "source": [
    "### MSE with PCA"
   ]
  },
  {
   "cell_type": "code",
   "execution_count": 29,
   "metadata": {
    "collapsed": false,
    "scrolled": false
   },
   "outputs": [
    {
     "name": "stdout",
     "output_type": "stream",
     "text": [
      "[ 45.77  61.05  69.89  77.25  83.32  88.34  91.58  93.93  95.94  97.52\n",
      "  98.69  99.64  99.98]\n",
      "PCA MSE: 120.858046224\n"
     ]
    },
    {
     "data": {
      "image/png": "[encoded data removed]",
      "text/plain": [
       "<matplotlib.figure.Figure at 0xf580ef0>"
      ]
     },
     "metadata": {},
     "output_type": "display_data"
    }
   ],
   "source": [
    "\n",
    "pca = PCA()\n",
    "pc_train_x = pca.fit_transform(scale(x_train))\n",
    "pc_test_x = pca.fit_transform(scale(x_test))\n",
    "\n",
    "fig, (ax1, ax2, ax3) = plt.subplots(1,3, figsize=(16,6))\n",
    "\n",
    "#Plot Explained Variance to determine best components\n",
    "ax1.set_title(\"Variance vs # Components\")\n",
    "xVals = [n for n in range(1,len(x_train.columns)+1)]\n",
    "explainedVar = np.cumsum(np.round(pca.explained_variance_ratio_, decimals=4)*100)\n",
    "print explainedVar\n",
    "ax1.scatter(xVals,explainedVar)\n",
    "\n",
    "mse = []\n",
    "plinear = LinearRegression()\n",
    "\n",
    "#Find number of components using cross validation mse scores\n",
    "#Zero Components\n",
    "mse.append(np.mean(-cross_val_score(plinear, np.ones((len(pc_train_x), 1)),\n",
    "                                        y_train, cv=10, scoring='neg_mean_squared_error')))\n",
    "\n",
    "#One to 13 Components\n",
    "for i in range(1, 14):\n",
    "    mse.append(np.mean(-cross_val_score(plinear, pc_train_x[:, :i], y_train, cv=10,\n",
    "                                    scoring='neg_mean_squared_error')))\n",
    "#Plot MSE to determine best components\n",
    "ax2.plot(mse)\n",
    "ax2.set_title(\"MSE vs # Components\")\n",
    "\n",
    "#Plot disregarding intercept\n",
    "ax3.plot([n for n in range(1,14)],mse[1:],'-v')\n",
    "\n",
    "plinear.fit(pc_train_x, y_train)\n",
    "pcamse = mean_squared_error(y_test, plinear.predict(pc_test_x))\n",
    "\n",
    "print \"PCA MSE: \" + str(pcamse)\n",
    "pcrmse = mean_squared_error(y_test, plinear.predict(pc_test_x[:,0:len(x_train.columns)+1]))"
   ]
  },
  {
   "cell_type": "code",
   "execution_count": 19,
   "metadata": {
    "collapsed": false
   },
   "outputs": [
    {
     "name": "stdout",
     "output_type": "stream",
     "text": [
      "The minimum MSE obtained is with 13 components with an MSE of: 52.4880808697 which explains about: 97.52 percent of variance\n",
      "PCR Regression MSE on Test set: 120.858046224\n"
     ]
    }
   ],
   "source": [
    "print \"The minimum MSE obtained is with 13 components with an MSE of: \" + str(min(mse)) + \" which explains about: \"+str(explainedVar[9])+\" percent of variance\"\n",
    "\n",
    "\n",
    "print \"PCR Regression MSE on Test set: \" + str(pcrmse)"
   ]
  },
  {
   "cell_type": "code",
   "execution_count": 20,
   "metadata": {
    "collapsed": false
   },
   "outputs": [
    {
     "name": "stdout",
     "output_type": "stream",
     "text": [
      "\n",
      "R^2 Scores\n",
      "OLS R^2 Score: 0.502113324776\n",
      "Ridge R^2 Score: 0.564201525111\n",
      "Lasso R^2 Score: 0.520989081679\n",
      "PCR R^2 Score: -2.20671097308\n"
     ]
    }
   ],
   "source": [
    "print \"\\nR^2 Scores\"\n",
    "print \"OLS R^2 Score: \" + str(olslinear.score(x_test,y_test))\n",
    "print \"Ridge R^2 Score: \" + str(ridgecv.score(x_test,y_test))\n",
    "print \"Lasso R^2 Score: \" + str(lassocv.score(x_test,y_test))\n",
    "print \"PCR R^2 Score: \" + str(plinear.score(pc_test_x[:, 0:len(x_train.columns)],y_test))"
   ]
  },
  {
   "cell_type": "markdown",
   "metadata": {},
   "source": [
    "## Analysis:\n",
    "   \n",
    "When comparing the test errors of the linear, ridge, lasso, and PCR, PCR faired the worst, with a MSE of 120.85 compared to the 18.76, 16.42, and 18.05 of linear, ridge, and lasso respectively. When looking that the latter three, ridge regression performs the best on test error, training error, and cross-validation error.\n",
    "\n",
    "However, these measures can only tell us so much. Using R^2 scores as another metric, ridge regression also has the highest score.\n",
    "\n",
    "We recognize that some data points might not be needed according to PCR.\n",
    "\n",
    "We will perform feature selection as a result"
   ]
  },
  {
   "cell_type": "markdown",
   "metadata": {},
   "source": [
    "### Best Subset Selection using RFE (AIC Score)"
   ]
  },
  {
   "cell_type": "code",
   "execution_count": 31,
   "metadata": {
    "collapsed": false
   },
   "outputs": [
    {
     "name": "stdout",
     "output_type": "stream",
     "text": [
      "[False  True  True  True  True False  True  True False  True False False\n",
      "  True]\n",
      "[3 1 1 1 1 4 1 1 5 1 6 2 1]\n",
      "[ True  True False False  True False  True  True False  True False  True\n",
      "  True]\n",
      "[1 1 2 5 1 3 1 1 6 1 4 1 1]\n",
      "[ True  True False False  True False  True  True False  True False  True\n",
      "  True]\n",
      "[1 1 6 5 1 4 1 1 3 1 2 1 1]\n",
      "average rfe\n",
      "[1 1 3 3 1 3 1 1 4 1 4 1 1]\n"
     ]
    }
   ],
   "source": [
    "from sklearn import datasets\n",
    "from sklearn.feature_selection import RFE\n",
    "\n",
    "lambdas = [0.001, 0.01, 0.1, 1, 10, 100, 1000]\n",
    "\n",
    "olslinear = LinearRegression()\n",
    "# create the RFE model and select 3 attributes\n",
    "olsrfe = RFE(olslinear, 8)\n",
    "olsrfe = olsrfe.fit(x_train, y_train)\n",
    "# summarize the selection of the attributes\n",
    "print(olsrfe.support_)\n",
    "print(olsrfe.ranking_)\n",
    "\n",
    "\n",
    "ridgecv = RidgeCV(alphas = lambdas, cv = 10)\n",
    "# create the RFE model and select 3 attributes\n",
    "ridgerfe = RFE(ridgecv, 8)\n",
    "ridgerfe = ridgerfe.fit(x_train, y_train)\n",
    "# summarize the selection of the attributes\n",
    "print(ridgerfe.support_)\n",
    "print(ridgerfe.ranking_)\n",
    "\n",
    "lassocv = LassoCV(alphas = lambdas, cv = 10)\n",
    "# create the RFE model and select 3 attributes\n",
    "lassorfe = RFE(lassocv, 8)\n",
    "lassorfe = lassorfe.fit(x_train, y_train)\n",
    "# summarize the selection of the attributes\n",
    "print(lassorfe.support_)\n",
    "print(lassorfe.ranking_)\n",
    "\n",
    "print \"average rfe\"\n",
    "print (np.asarray(olsrfe.ranking_) + np.asarray(ridgerfe.ranking_) + np.asarray(lassorfe.ranking_))/3"
   ]
  },
  {
   "cell_type": "markdown",
   "metadata": {},
   "source": [
    "So it looks like the top features are 0, 1, 2, 4, 6, 7, 9, 11, 12. Let's drop the other columns and run the same tests on the linear, ridge, and lasso models with the top 9 features."
   ]
  },
  {
   "cell_type": "code",
   "execution_count": 32,
   "metadata": {
    "collapsed": false
   },
   "outputs": [
    {
     "data": {
      "text/html": [
       "<div>\n",
       "<style>\n",
       "    .dataframe thead tr:only-child th {\n",
       "        text-align: right;\n",
       "    }\n",
       "\n",
       "    .dataframe thead th {\n",
       "        text-align: left;\n",
       "    }\n",
       "\n",
       "    .dataframe tbody tr th {\n",
       "        vertical-align: top;\n",
       "    }\n",
       "</style>\n",
       "<table border=\"1\" class=\"dataframe\">\n",
       "  <thead>\n",
       "    <tr style=\"text-align: right;\">\n",
       "      <th></th>\n",
       "      <th>zn</th>\n",
       "      <th>indus</th>\n",
       "      <th>rm</th>\n",
       "      <th>dis</th>\n",
       "      <th>rad</th>\n",
       "      <th>ptratio</th>\n",
       "      <th>lstat</th>\n",
       "      <th>medv</th>\n",
       "    </tr>\n",
       "  </thead>\n",
       "  <tbody>\n",
       "    <tr>\n",
       "      <th>0</th>\n",
       "      <td>18.0</td>\n",
       "      <td>2.31</td>\n",
       "      <td>6.575</td>\n",
       "      <td>4.0900</td>\n",
       "      <td>1</td>\n",
       "      <td>15.3</td>\n",
       "      <td>4.98</td>\n",
       "      <td>24.0</td>\n",
       "    </tr>\n",
       "    <tr>\n",
       "      <th>1</th>\n",
       "      <td>0.0</td>\n",
       "      <td>7.07</td>\n",
       "      <td>6.421</td>\n",
       "      <td>4.9671</td>\n",
       "      <td>2</td>\n",
       "      <td>17.8</td>\n",
       "      <td>9.14</td>\n",
       "      <td>21.6</td>\n",
       "    </tr>\n",
       "    <tr>\n",
       "      <th>2</th>\n",
       "      <td>0.0</td>\n",
       "      <td>7.07</td>\n",
       "      <td>7.185</td>\n",
       "      <td>4.9671</td>\n",
       "      <td>2</td>\n",
       "      <td>17.8</td>\n",
       "      <td>4.03</td>\n",
       "      <td>34.7</td>\n",
       "    </tr>\n",
       "    <tr>\n",
       "      <th>3</th>\n",
       "      <td>0.0</td>\n",
       "      <td>2.18</td>\n",
       "      <td>6.998</td>\n",
       "      <td>6.0622</td>\n",
       "      <td>3</td>\n",
       "      <td>18.7</td>\n",
       "      <td>2.94</td>\n",
       "      <td>33.4</td>\n",
       "    </tr>\n",
       "    <tr>\n",
       "      <th>4</th>\n",
       "      <td>0.0</td>\n",
       "      <td>2.18</td>\n",
       "      <td>7.147</td>\n",
       "      <td>6.0622</td>\n",
       "      <td>3</td>\n",
       "      <td>18.7</td>\n",
       "      <td>5.33</td>\n",
       "      <td>36.2</td>\n",
       "    </tr>\n",
       "  </tbody>\n",
       "</table>\n",
       "</div>"
      ],
      "text/plain": [
       "     zn  indus     rm     dis  rad  ptratio  lstat  medv\n",
       "0  18.0   2.31  6.575  4.0900    1     15.3   4.98  24.0\n",
       "1   0.0   7.07  6.421  4.9671    2     17.8   9.14  21.6\n",
       "2   0.0   7.07  7.185  4.9671    2     17.8   4.03  34.7\n",
       "3   0.0   2.18  6.998  6.0622    3     18.7   2.94  33.4\n",
       "4   0.0   2.18  7.147  6.0622    3     18.7   5.33  36.2"
      ]
     },
     "execution_count": 32,
     "metadata": {},
     "output_type": "execute_result"
    }
   ],
   "source": [
    "Xnew = X.drop(['nox', 'chas','age', 'tax', 'black'], axis=1)\n",
    "Xnew.head()"
   ]
  },
  {
   "cell_type": "code",
   "execution_count": 33,
   "metadata": {
    "collapsed": false,
    "scrolled": true
   },
   "outputs": [
    {
     "name": "stdout",
     "output_type": "stream",
     "text": [
      "  Linear Model Using Least Squares\n",
      "    test error: 19.4045071221\n",
      "    training error: 46.9443411055\n",
      "    cross-validation error: 49.4985291648\n",
      "  Ridge Regression\n",
      "    test error: 17.1341941572\n",
      "    training error: 47.7444300308\n",
      "    cross-validation error: 49.4682425574\n",
      "  Lasso Regression\n",
      "    test error: 18.9179548843\n",
      "    training error: 46.9983457942\n",
      "    cross-validation error: 49.2136571012\n"
     ]
    }
   ],
   "source": [
    "lambdas = [0.001, 0.01, 0.1, 1, 10, 100, 1000]\n",
    "\n",
    "x_train, x_test, y_train, y_test = train_test_split(Xnew, y, test_size = 0.2, random_state=10)\n",
    "\n",
    "#Linear\n",
    "print \"  Linear Model Using Least Squares\"\n",
    "olslinear = LinearRegression()\n",
    "olslinear.fit(x_train, y_train)\n",
    "y_pred = olslinear.predict(x_test)\n",
    "MSE = mean_squared_error(y_test, y_pred)\n",
    "TMSE = mean_squared_error(y_train, olslinear.predict(x_train))\n",
    "CVS = np.mean(-cross_val_score(olslinear, x_train, y_train, cv=20, scoring='neg_mean_squared_error'))\n",
    "print \"    test error:\", MSE\n",
    "print \"    training error:\", TMSE\n",
    "print \"    cross-validation error:\", CVS\n",
    "\n",
    "#Ridge\n",
    "print \"  Ridge Regression\"\n",
    "ridgecv = RidgeCV(alphas = lambdas, cv = 10)\n",
    "ridgecv.fit(x_train, y_train)\n",
    "y_pred = ridgecv.predict(x_test)\n",
    "MSE = mean_squared_error(y_test, y_pred)\n",
    "TMSE = mean_squared_error(y_train, ridgecv.predict(x_train))\n",
    "CVS = np.mean(-cross_val_score(ridgecv, x_train, y_train, cv=20, scoring='neg_mean_squared_error'))\n",
    "print \"    test error:\", MSE\n",
    "print \"    training error:\", TMSE\n",
    "print \"    cross-validation error:\", CVS\n",
    "\n",
    "#Lasso\n",
    "print \"  Lasso Regression\"\n",
    "lassocv = LassoCV(alphas = lambdas, cv = 10)\n",
    "lassocv.fit(x_train, y_train)\n",
    "y_pred = lassocv.predict(x_test)\n",
    "MSE = mean_squared_error(y_test, y_pred)\n",
    "TMSE = mean_squared_error(y_train, lassocv.predict(x_train))\n",
    "CVS = np.mean(-cross_val_score(lassocv, x_train, y_train, cv=20, scoring='neg_mean_squared_error'))\n",
    "print \"    test error:\", MSE\n",
    "print \"    training error:\", TMSE\n",
    "print \"    cross-validation error:\", CVS\n",
    "\n",
    "#nzc = np.count_nonzero(lassocv.coef_)\n",
    "\n",
    "#print \"    number of non-zero coeff:\", nzc"
   ]
  },
  {
   "cell_type": "code",
   "execution_count": 34,
   "metadata": {
    "collapsed": false
   },
   "outputs": [
    {
     "name": "stdout",
     "output_type": "stream",
     "text": [
      "\n",
      "R^2 Scores\n",
      "OLS R^2 Score: 0.485142711969\n",
      "Ridge R^2 Score: 0.545380633434\n",
      "Lasso R^2 Score: 0.498052339822\n"
     ]
    }
   ],
   "source": [
    "print \"\\nR^2 Scores\"\n",
    "print \"OLS R^2 Score: \" + str(olslinear.score(x_test,y_test))\n",
    "print \"Ridge R^2 Score: \" + str(ridgecv.score(x_test,y_test))\n",
    "print \"Lasso R^2 Score: \" + str(lassocv.score(x_test,y_test))"
   ]
  },
  {
   "cell_type": "markdown",
   "metadata": {},
   "source": [
    "### Observation on AIC Score\n",
    "\n",
    "The feature selection on 8 best models does not perform much better"
   ]
  },
  {
   "cell_type": "markdown",
   "metadata": {},
   "source": [
    "### Using BIC Scoring"
   ]
  },
  {
   "cell_type": "code",
   "execution_count": 35,
   "metadata": {
    "collapsed": true
   },
   "outputs": [],
   "source": [
    "#http://www.science.smith.edu/~jcrouser/SDS293/labs/2016/lab8/Lab%208%20-%20Subset%20Selection%20in%20Python.pdf\n",
    "\n",
    "\n",
    "def processSubset(feature_set):\n",
    "# Fit model on feature_set and calculate RSS\n",
    "    model = sm.OLS(y,X[list(feature_set)])\n",
    "    regr = model.fit()\n",
    "    RSS = ((regr.predict(X[list(feature_set)]) - y) ** 2).sum()\n",
    "    return {\"model\":regr, \"RSS\":RSS}\n",
    "\n",
    "def getBest(k):\n",
    "    tic = time.time()\n",
    "    results = []\n",
    "    for combo in itertools.combinations(X.columns, k):\n",
    "        results.append(processSubset(combo))\n",
    "    # Wrap everything up in a nice dataframe\n",
    "    models = pd.DataFrame(results)\n",
    "    # Choose the model with the highest RSS\n",
    "    best_model = models.loc[models[\"RSS\"].argmin()]\n",
    "    toc = time.time()\n",
    "    print(\"Processed \", models.shape[0], \"models on\", k, \"predictors in\", (toc-tic), \"seconds.\")\n",
    "    # Return the best model, along with some other useful information about the model\n",
    "    return best_model\n",
    "\n"
   ]
  },
  {
   "cell_type": "code",
   "execution_count": 36,
   "metadata": {
    "collapsed": false
   },
   "outputs": [
    {
     "name": "stdout",
     "output_type": "stream",
     "text": [
      "('Processed ', 13, 'models on', 1, 'predictors in', 0.10199999809265137, 'seconds.')\n",
      "('Processed ', 78, 'models on', 2, 'predictors in', 0.4760000705718994, 'seconds.')\n",
      "('Processed ', 286, 'models on', 3, 'predictors in', 1.6349999904632568, 'seconds.')\n",
      "('Processed ', 715, 'models on', 4, 'predictors in', 3.3539998531341553, 'seconds.')\n",
      "('Processed ', 1287, 'models on', 5, 'predictors in', 6.641999959945679, 'seconds.')\n",
      "('Processed ', 1716, 'models on', 6, 'predictors in', 8.559000015258789, 'seconds.')\n",
      "('Processed ', 1716, 'models on', 7, 'predictors in', 7.8450000286102295, 'seconds.')\n",
      "('Processed ', 1287, 'models on', 8, 'predictors in', 6.347999811172485, 'seconds.')\n",
      "('Processed ', 715, 'models on', 9, 'predictors in', 3.636000156402588, 'seconds.')\n",
      "('Processed ', 286, 'models on', 10, 'predictors in', 1.624000072479248, 'seconds.')\n",
      "('Processed ', 78, 'models on', 11, 'predictors in', 0.3710000514984131, 'seconds.')\n",
      "('Processed ', 13, 'models on', 12, 'predictors in', 0.07299995422363281, 'seconds.')\n",
      "('Processed ', 1, 'models on', 13, 'predictors in', 0.00800013542175293, 'seconds.')\n",
      "('Total elapsed time:', 40.76899981498718, 'seconds.')\n"
     ]
    }
   ],
   "source": [
    "import statsmodels.api as sm\n",
    "import time\n",
    "import itertools\n",
    "# Could take quite awhile to complete...\n",
    "models = pd.DataFrame(columns=[\"RSS\", \"model\"])\n",
    "tic = time.time()\n",
    "for i in range(1,14):\n",
    "    models.loc[i] = getBest(i)\n",
    "toc = time.time()\n",
    "print(\"Total elapsed time:\", (toc-tic), \"seconds.\")"
   ]
  },
  {
   "cell_type": "code",
   "execution_count": 37,
   "metadata": {
    "collapsed": false
   },
   "outputs": [
    {
     "data": {
      "text/plain": [
       "<matplotlib.text.Text at 0x134891d0>"
      ]
     },
     "execution_count": 37,
     "metadata": {},
     "output_type": "execute_result"
    },
    {
     "data": {
      "image/png": "[encoded data removed]",
      "text/plain": [
       "<matplotlib.figure.Figure at 0x17971d68>"
      ]
     },
     "metadata": {},
     "output_type": "display_data"
    }
   ],
   "source": [
    "plt.figure(figsize=(20,10))\n",
    "plt.rcParams.update({\"font.size\": 18, \"lines.markersize\": 10})\n",
    "\n",
    "# Set up a 2x2 grid so we can look at 4 plots at once\n",
    "plt.subplot(2, 2, 1)\n",
    "\n",
    "# We will now plot a red dot to indicate the model with the largest adjusted R^2 statistic.\n",
    "# The argmax() function can be used to identify the location of the maximum point of a vector\n",
    "plt.plot(models[\"RSS\"])\n",
    "plt.xlabel(\"# Predictors\")\n",
    "plt.ylabel(\"RSS\")\n",
    "# We will now plot a red dot to indicate the model with the largest adjusted R^2 statistic.\n",
    "# The argmax() function can be used to identify the location of the maximum point of a vector\n",
    "rsquared = models.apply(lambda row: row[1].rsquared, axis=1)\n",
    "plt.subplot(2, 2, 2)\n",
    "plt.plot(rsquared)\n",
    "plt.plot(rsquared.argmax(), rsquared.max(), \"or\")\n",
    "plt.xlabel(\"# Predictors\")\n",
    "plt.ylabel(\"adjusted rsquared\")\n",
    "# We’ll do the same for AIC and BIC, this time looking for the models with the SMALLEST statistic\n",
    "           \n",
    "aic = models.apply(lambda row: row[1].aic, axis=1)\n",
    "plt.subplot(2, 2, 3)\n",
    "plt.plot(aic)\n",
    "plt.plot(aic.argmin(), aic.min(), \"or\")\n",
    "plt.xlabel(\"# Predictors\")\n",
    "plt.ylabel(\"AIC\")\n",
    "bic = models.apply(lambda row: row[1].bic, axis=1)\n",
    "plt.subplot(2, 2, 4)\n",
    "plt.plot(bic)\n",
    "plt.plot(bic.argmin(), bic.min(), \"or\")\n",
    "plt.xlabel(\"# Predictors\")\n",
    "plt.ylabel(\"BIC\")"
   ]
  },
  {
   "cell_type": "markdown",
   "metadata": {},
   "source": [
    "According to an AIC score, 8 predictors are the best.\n",
    "\n",
    "According to an BIC score, 3 predictors are the best.\n",
    "\n",
    "According to R^2 Value, all 13 predictors are the best."
   ]
  },
  {
   "cell_type": "code",
   "execution_count": 38,
   "metadata": {
    "collapsed": false
   },
   "outputs": [
    {
     "name": "stdout",
     "output_type": "stream",
     "text": [
      "('Processed ', 286, 'models on', 3, 'predictors in', 1.246999979019165, 'seconds.')\n",
      "                            OLS Regression Results                            \n",
      "==============================================================================\n",
      "Dep. Variable:                   crim   R-squared:                       0.514\n",
      "Model:                            OLS   Adj. R-squared:                  0.512\n",
      "Method:                 Least Squares   F-statistic:                     177.6\n",
      "Date:                Mon, 16 Oct 2017   Prob (F-statistic):           1.60e-78\n",
      "Time:                        07:56:21   Log-Likelihood:                -1664.8\n",
      "No. Observations:                 506   AIC:                             3336.\n",
      "Df Residuals:                     503   BIC:                             3348.\n",
      "Df Model:                           3                                         \n",
      "Covariance Type:            nonrobust                                         \n",
      "==============================================================================\n",
      "                 coef    std err          t      P>|t|      [0.025      0.975]\n",
      "------------------------------------------------------------------------------\n",
      "rad            0.4850      0.038     12.815      0.000       0.411       0.559\n",
      "black         -0.0102      0.001     -7.817      0.000      -0.013      -0.008\n",
      "lstat          0.2090      0.043      4.868      0.000       0.125       0.293\n",
      "==============================================================================\n",
      "Omnibus:                      680.461   Durbin-Watson:                   1.454\n",
      "Prob(Omnibus):                  0.000   Jarque-Bera (JB):            93107.137\n",
      "Skew:                           6.848   Prob(JB):                         0.00\n",
      "Kurtosis:                      68.028   Cond. No.                         66.0\n",
      "==============================================================================\n",
      "\n",
      "Warnings:\n",
      "[1] Standard Errors assume that the covariance matrix of the errors is correctly specified.\n"
     ]
    }
   ],
   "source": [
    "# Let's get the 3 best from BIC\n",
    "\n",
    "print(getBest(3)[\"model\"].summary())"
   ]
  },
  {
   "cell_type": "code",
   "execution_count": 39,
   "metadata": {
    "collapsed": true
   },
   "outputs": [],
   "source": [
    "subsetX = pd.concat((X.rad,X.black,X.lstat), axis =1 ,join = 'inner')"
   ]
  },
  {
   "cell_type": "markdown",
   "metadata": {},
   "source": []
  },
  {
   "cell_type": "code",
   "execution_count": 40,
   "metadata": {
    "collapsed": false
   },
   "outputs": [
    {
     "data": {
      "text/html": [
       "<div>\n",
       "<style>\n",
       "    .dataframe thead tr:only-child th {\n",
       "        text-align: right;\n",
       "    }\n",
       "\n",
       "    .dataframe thead th {\n",
       "        text-align: left;\n",
       "    }\n",
       "\n",
       "    .dataframe tbody tr th {\n",
       "        vertical-align: top;\n",
       "    }\n",
       "</style>\n",
       "<table border=\"1\" class=\"dataframe\">\n",
       "  <thead>\n",
       "    <tr style=\"text-align: right;\">\n",
       "      <th></th>\n",
       "      <th>rad</th>\n",
       "      <th>black</th>\n",
       "      <th>lstat</th>\n",
       "    </tr>\n",
       "  </thead>\n",
       "  <tbody>\n",
       "    <tr>\n",
       "      <th>0</th>\n",
       "      <td>1</td>\n",
       "      <td>396.90</td>\n",
       "      <td>4.98</td>\n",
       "    </tr>\n",
       "    <tr>\n",
       "      <th>1</th>\n",
       "      <td>2</td>\n",
       "      <td>396.90</td>\n",
       "      <td>9.14</td>\n",
       "    </tr>\n",
       "    <tr>\n",
       "      <th>2</th>\n",
       "      <td>2</td>\n",
       "      <td>392.83</td>\n",
       "      <td>4.03</td>\n",
       "    </tr>\n",
       "    <tr>\n",
       "      <th>3</th>\n",
       "      <td>3</td>\n",
       "      <td>394.63</td>\n",
       "      <td>2.94</td>\n",
       "    </tr>\n",
       "    <tr>\n",
       "      <th>4</th>\n",
       "      <td>3</td>\n",
       "      <td>396.90</td>\n",
       "      <td>5.33</td>\n",
       "    </tr>\n",
       "  </tbody>\n",
       "</table>\n",
       "</div>"
      ],
      "text/plain": [
       "   rad   black  lstat\n",
       "0    1  396.90   4.98\n",
       "1    2  396.90   9.14\n",
       "2    2  392.83   4.03\n",
       "3    3  394.63   2.94\n",
       "4    3  396.90   5.33"
      ]
     },
     "execution_count": 40,
     "metadata": {},
     "output_type": "execute_result"
    }
   ],
   "source": [
    "subsetX.head()"
   ]
  },
  {
   "cell_type": "code",
   "execution_count": 42,
   "metadata": {
    "collapsed": false
   },
   "outputs": [
    {
     "data": {
      "image/png": "[encoded data removed]",
      "text/plain": [
       "<matplotlib.figure.Figure at 0xd4cd438>"
      ]
     },
     "metadata": {},
     "output_type": "display_data"
    }
   ],
   "source": [
    "#Let's look at some boxplots to see if there's any bad outliers\n",
    "import seaborn as sns\n",
    "fig, (ax1, ax2,ax3) = plt.subplots(1, 3)\n",
    "fig.tight_layout(pad=0.7)\n",
    "\n",
    "#Rent\n",
    "plt.title(\"Rad\")\n",
    "sns.boxplot(y= subsetX['rad'],data =subsetX, ax = ax1)\n",
    "sns.stripplot(y=subsetX['rad'], jitter = True, ax = ax1);\n",
    "\n",
    "#Democracy\n",
    "plt.title(\"Black\")\n",
    "sns.boxplot(y= subsetX['black'], data =subsetX, color = 'g', ax = ax2)\n",
    "sns.stripplot(y=subsetX['black'], jitter = True, color = 'g', ax = ax2);\n",
    "\n",
    "#Inst\n",
    "plt.title(\"LStat\")\n",
    "sns.boxplot(y= subsetX['lstat'], data =subsetX, color = 'r', ax = ax3)\n",
    "sns.stripplot(y=subsetX['lstat'], jitter = True, color = 'r', ax = ax3);"
   ]
  },
  {
   "cell_type": "code",
   "execution_count": 43,
   "metadata": {
    "collapsed": true
   },
   "outputs": [],
   "source": [
    "X_train, X_test, y_train, y_test = train_test_split(subsetX, y, test_size = 0.2, random_state=10)"
   ]
  },
  {
   "cell_type": "code",
   "execution_count": 45,
   "metadata": {
    "collapsed": false
   },
   "outputs": [
    {
     "name": "stdout",
     "output_type": "stream",
     "text": [
      "  Huber Regression\n",
      "    test error: 17.309466501\n",
      "    cross-validation error: 55.6878749619\n",
      "    Huber R^2 Score: 0.540730154913\n",
      "  Lasso Regression\n",
      "    test error: 14.0299224397\n",
      "    training error: 49.3333113636\n",
      "    cross-validation error: 51.9706344608\n",
      "    Lasso R^2 Score: 0.627745875062\n",
      "  Linear Model Using Least Squares\n",
      "    test error: 14.0300287398\n",
      "    training error: 49.3333113372\n",
      "    cross-validation error: 51.9558733454\n",
      "  Ridge Regression\n",
      "    test error: 13.853751463\n",
      "    training error: 49.3566950189\n",
      "    cross-validation error: 51.9462290103\n"
     ]
    }
   ],
   "source": [
    "from sklearn.linear_model import HuberRegressor\n",
    "\n",
    "print \"  Huber Regression\"\n",
    "huber = HuberRegressor(alpha = 0.0)\n",
    "huber.fit(X_train,y_train)\n",
    "huber_pred = huber.predict(X_test)\n",
    "MSE = mean_squared_error(y_test, huber_pred)\n",
    "CVS = crossValScore = np.mean(-cross_val_score(huber, X_train, y_train, cv=20, scoring='neg_mean_squared_error'))\n",
    "print \"    test error:\", MSE\n",
    "print \"    cross-validation error:\", CVS\n",
    "print \"    Huber R^2 Score: \" + str(huber.score(X_test,y_test))\n",
    "\n",
    "lambdas = [0.001, 0.01, 0.1, 1, 10, 100, 1000]\n",
    "#Lasso\n",
    "print \"  Lasso Regression\"\n",
    "lassocv = LassoCV(alphas = lambdas, cv = 10)\n",
    "lassocv.fit(X_train, y_train)\n",
    "y_pred = lassocv.predict(X_test)\n",
    "MSE = mean_squared_error(y_test, y_pred)\n",
    "TMSE = mean_squared_error(y_train, lassocv.predict(X_train))\n",
    "CVS = np.mean(-cross_val_score(lassocv, X_train, y_train, cv=20, scoring='neg_mean_squared_error'))\n",
    "print \"    test error:\", MSE\n",
    "print \"    training error:\", TMSE\n",
    "print \"    cross-validation error:\", CVS\n",
    "print \"    Lasso R^2 Score: \" + str(lassocv.score(X_test,y_test))\n",
    "\n",
    "#Linear\n",
    "print \"  Linear Model Using Least Squares\"\n",
    "olslinear = LinearRegression()\n",
    "olslinear.fit(X_train, y_train)\n",
    "y_pred = olslinear.predict(X_test)\n",
    "MSE = mean_squared_error(y_test, y_pred)\n",
    "TMSE = mean_squared_error(y_train, olslinear.predict(X_train))\n",
    "CVS = np.mean(-cross_val_score(olslinear, X_train, y_train, cv=20, scoring='neg_mean_squared_error'))\n",
    "print \"    test error:\", MSE\n",
    "print \"    training error:\", TMSE\n",
    "print \"    cross-validation error:\", CVS\n",
    "\n",
    "#Ridge\n",
    "print \"  Ridge Regression\"\n",
    "ridgecv = RidgeCV(alphas = lambdas, cv = 10)\n",
    "ridgecv.fit(X_train, y_train)\n",
    "y_pred = ridgecv.predict(X_test)\n",
    "MSE = mean_squared_error(y_test, y_pred)\n",
    "TMSE = mean_squared_error(y_train, ridgecv.predict(X_train))\n",
    "CVS = np.mean(-cross_val_score(ridgecv, X_train, y_train, cv=20, scoring='neg_mean_squared_error'))\n",
    "print \"    test error:\", MSE\n",
    "print \"    training error:\", TMSE\n",
    "print \"    cross-validation error:\", CVS"
   ]
  },
  {
   "cell_type": "markdown",
   "metadata": {},
   "source": [
    "### Final Summary\n",
    "![](http://i.markdownnotes.com/image_qCU8rxl.png)"
   ]
  },
  {
   "cell_type": "markdown",
   "metadata": {},
   "source": [
    "The best subset selection is with only 3 features using ordinary least squares.\n",
    "With features: 'LSTAT', 'RAD', and 'Black'\n",
    "The MSE obtained was 13.8.\n",
    "\n",
    "\n",
    "lstat: lower status of the population (percent).\n",
    "\n",
    "black: 1000(Bk−0.63)21000Bk0.632 where Bk is the proportion of blacks by town.\n",
    "\n",
    "rad: index of accessibility to radial highways.\n",
    "\n",
    "Recgonize that these 3 features are what we expect to contribute the most to crime rates (lower income, underdeveloped, and predominately black)."
   ]
  },
  {
   "cell_type": "markdown",
   "metadata": {
    "collapsed": true
   },
   "source": [
    "# Problem 4"
   ]
  },
  {
   "cell_type": "markdown",
   "metadata": {},
   "source": [
    "**Ordinary Least Squares:**\n",
    "\n",
    "$$min_\\beta: ||X\\beta -y||_2^2 = \\sum(X_i\\beta-y_i)^2$$\n",
    "1. Vector Notation. Derive and Set to Zero.\n",
    "$$2X^T(X\\beta-y) = 0 $$ \n",
    "\n",
    "\n",
    "2. \n",
    "$$~$$\n",
    "$$2X^TX\\beta - 2X^Ty = 0 $$\n",
    "$$~$$\n",
    "$$ X^T X \\beta = X^T y $$\n",
    "$$~$$\n",
    "$$ \\hat{\\beta} = (X^TX)^-1X^Ty$$\n",
    "\n",
    "\n",
    "**Ridge Regression:**\n",
    "$$min_\\beta: ||X\\beta -y||_2^2 + \\lambda ||\\beta||^2_2= \\sum(X_i\\beta-y_i)^2 + \\lambda \\sum \\beta_i^2$$\n",
    "\n",
    "1. Make Vector Notation, Derive and set to zero\n",
    "\n",
    "$$2X^T(X\\beta-y) + 2\\lambda \\beta = 0 $$ \n",
    "\n",
    " \n",
    "2. \n",
    "$$2X^TX\\beta-2X^Ty + 2\\lambda\\beta =0$$\n",
    "$$~$$\n",
    "$$ X^T X \\beta + \\lambda\\beta = X^T y $$\n",
    "$$~$$\n",
    "$$(X^TX + \\lambda I)\\beta = X^Ty$$\n",
    "$$~$$\n",
    "$$\\hat{\\beta} = (X^TX + \\lambda I)^{-1}X^Ty$$"
   ]
  },
  {
   "cell_type": "code",
   "execution_count": null,
   "metadata": {
    "collapsed": true
   },
   "outputs": [],
   "source": []
  }
 ],
 "metadata": {
  "kernelspec": {
   "display_name": "Python 2",
   "language": "python",
   "name": "python2"
  },
  "language_info": {
   "codemirror_mode": {
    "name": "ipython",
    "version": 2
   },
   "file_extension": ".py",
   "mimetype": "text/x-python",
   "name": "python",
   "nbconvert_exporter": "python",
   "pygments_lexer": "ipython2",
   "version": "2.7.13"
  }
 },
 "nbformat": 4,
 "nbformat_minor": 1
}
